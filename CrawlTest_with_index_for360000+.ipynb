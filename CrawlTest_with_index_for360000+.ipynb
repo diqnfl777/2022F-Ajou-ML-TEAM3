{
  "cells": [
    {
      "cell_type": "markdown",
      "metadata": {
        "id": "view-in-github",
        "colab_type": "text"
      },
      "source": [
        "<a href=\"https://colab.research.google.com/github/diqnfl777/2022F-Ajou-ML-TEAM3/blob/main/CrawlTest_with_index_for360000%2B.ipynb\" target=\"_parent\"><img src=\"https://colab.research.google.com/assets/colab-badge.svg\" alt=\"Open In Colab\"/></a>"
      ]
    },
    {
      "cell_type": "code",
      "execution_count": 1,
      "metadata": {
        "id": "UqriFOA8hnvl"
      },
      "outputs": [],
      "source": [
        "import requests\n",
        "\n",
        "cookies = {\n",
        "    'JSESSIONID': '84DF30E2DFF5F3096121C8945DD56DBA.pyxis-api1',\n",
        "    'apt.uid': 'AP-PQQY5YJEHTTA-2-1645597751454-98837791.0.2.76c966dc-315c-45f5-9b34-1bd88670682a',\n",
        "    '_ga': 'GA1.3.1573260349.1630468655',\n",
        "    '_ga_B05H7FL8XH': 'GS1.1.1665378882.8.0.1665379021.0.0.0',\n",
        "    '_ga_1WWMRKJP34': 'GS1.1.1665378882.8.1.1665379021.0.0.0',\n",
        "    'NG_TRANSLATE_LANG_KEY': '%22ko%22',\n",
        "    '_gid': 'GA1.3.1200811743.1669987673',\n",
        "    'YWpvdS5tYWluLmVkc2FwaQ%3D%3D': 'M2FjY2E3NWYtMjk5MS00YTVjLWIyNGMtZTlkZDg2ZmZiNGQ5Lk96N2l5TzhBR0VCYXlLVkIzaTJPVUE9PQ%3D%3D',\n",
        "    'YWpvdS5tYWluLmVkc2FwaQ%3D%3D-m': 'MCwwLDEsMCwwLDA%3D',\n",
        "    'PYXIS2_UUID': '%22a805a053-5377-4ef5-a17d-f4588d6248c1%22',\n",
        "    '_gat': '1',\n",
        "}\n",
        "\n",
        "headers = {\n",
        "    'Accept': 'application/json, text/plain, */*',\n",
        "    'Accept-Language': 'ko',\n",
        "    'Connection': 'keep-alive',\n",
        "    # 'Cookie': 'JSESSIONID=84DF30E2DFF5F3096121C8945DD56DBA.pyxis-api1; apt.uid=AP-PQQY5YJEHTTA-2-1645597751454-98837791.0.2.76c966dc-315c-45f5-9b34-1bd88670682a; _ga=GA1.3.1573260349.1630468655; _ga_B05H7FL8XH=GS1.1.1665378882.8.0.1665379021.0.0.0; _ga_1WWMRKJP34=GS1.1.1665378882.8.1.1665379021.0.0.0; NG_TRANSLATE_LANG_KEY=%22ko%22; _gid=GA1.3.1200811743.1669987673; YWpvdS5tYWluLmVkc2FwaQ%3D%3D=M2FjY2E3NWYtMjk5MS00YTVjLWIyNGMtZTlkZDg2ZmZiNGQ5Lk96N2l5TzhBR0VCYXlLVkIzaTJPVUE9PQ%3D%3D; YWpvdS5tYWluLmVkc2FwaQ%3D%3D-m=MCwwLDEsMCwwLDA%3D; PYXIS2_UUID=%22a805a053-5377-4ef5-a17d-f4588d6248c1%22; _gat=1',\n",
        "    'Referer': 'https://library.ajou.ac.kr/',\n",
        "    'Sec-Fetch-Dest': 'empty',\n",
        "    'Sec-Fetch-Mode': 'cors',\n",
        "    'Sec-Fetch-Site': 'same-origin',\n",
        "    'User-Agent': 'Mozilla/5.0 (Windows NT 10.0; Win64; x64) AppleWebKit/537.36 (KHTML, like Gecko) Chrome/107.0.0.0 Safari/537.36',\n",
        "    'sec-ch-ua': '\"Google Chrome\";v=\"107\", \"Chromium\";v=\"107\", \"Not=A?Brand\";v=\"24\"',\n",
        "    'sec-ch-ua-mobile': '?0',\n",
        "    'sec-ch-ua-platform': '\"Windows\"',\n",
        "}\n",
        "\n",
        "params = {\n",
        "    'branch': '1',\n",
        "    'material_type': '1',\n",
        "    'max': '100',\n",
        "    'offset': 390000,\n",
        "}\n",
        "\n",
        "response = requests.get(\n",
        "    'https://library.ajou.ac.kr/pyxis-api/1/collections/1/search',\n",
        "    params=params,\n",
        "    cookies=cookies,\n",
        "    headers=headers,\n",
        ")"
      ]
    },
    {
      "cell_type": "code",
      "source": [
        "import re\n",
        "isbn = '9780128115138'\n",
        "isbn.split('.')[0]\n",
        "response = requests.get('https://library.ajou.ac.kr/pyxis-api/mashup-aladin/'+ isbn + '/toc')\n",
        "data = response.json()\n",
        "if(data['code'] == 'success.retrieved'):\n",
        "  index_text = data['data']\n",
        "  index_text = re.sub(\"[\\<].*?[\\>]\", \"\", index_text)\n",
        "  print(index_text)"
      ],
      "metadata": {
        "id": "93u2wyhv87ms"
      },
      "execution_count": 2,
      "outputs": []
    },
    {
      "cell_type": "code",
      "source": [
        "from google.colab import drive\n",
        "drive.mount('/content/gdrive')"
      ],
      "metadata": {
        "colab": {
          "base_uri": "https://localhost:8080/"
        },
        "id": "0Ci5-Bh7Jj88",
        "outputId": "20d108dc-d18d-4857-a11b-ec6283272c3b"
      },
      "execution_count": 3,
      "outputs": [
        {
          "output_type": "stream",
          "name": "stdout",
          "text": [
            "Mounted at /content/gdrive\n"
          ]
        }
      ]
    },
    {
      "cell_type": "code",
      "execution_count": 15,
      "metadata": {
        "id": "B03jF4OJoMTG",
        "colab": {
          "base_uri": "https://localhost:8080/",
          "height": 424
        },
        "outputId": "d8e58b4b-e343-4f0e-c6e8-7e0a3c573c4a"
      },
      "outputs": [
        {
          "output_type": "stream",
          "name": "stdout",
          "text": [
            "[360000, 370000, 380000, 390000]\n",
            "진행중... 0.00% 완료!  0.00초\n",
            "진행중... 1.00% 완료!  10.97초\n"
          ]
        },
        {
          "output_type": "error",
          "ename": "KeyboardInterrupt",
          "evalue": "ignored",
          "traceback": [
            "\u001b[0;31m---------------------------------------------------------------------------\u001b[0m",
            "\u001b[0;31mKeyboardInterrupt\u001b[0m                         Traceback (most recent call last)",
            "\u001b[0;32m<ipython-input-15-22d712cbab81>\u001b[0m in \u001b[0;36m<module>\u001b[0;34m\u001b[0m\n\u001b[1;32m     69\u001b[0m   \u001b[0mprint\u001b[0m\u001b[0;34m(\u001b[0m\u001b[0minput\u001b[0m\u001b[0;34m)\u001b[0m\u001b[0;34m\u001b[0m\u001b[0;34m\u001b[0m\u001b[0m\n\u001b[1;32m     70\u001b[0m   \u001b[0;32mwith\u001b[0m \u001b[0mPool\u001b[0m\u001b[0;34m(\u001b[0m\u001b[0mprocesses\u001b[0m\u001b[0;34m=\u001b[0m\u001b[0mprocess_num\u001b[0m\u001b[0;34m)\u001b[0m \u001b[0;32mas\u001b[0m \u001b[0mpool\u001b[0m\u001b[0;34m:\u001b[0m\u001b[0;34m\u001b[0m\u001b[0;34m\u001b[0m\u001b[0m\n\u001b[0;32m---> 71\u001b[0;31m     \u001b[0mpool\u001b[0m\u001b[0;34m.\u001b[0m\u001b[0mmap\u001b[0m\u001b[0;34m(\u001b[0m\u001b[0mWriteCSV\u001b[0m\u001b[0;34m,\u001b[0m \u001b[0minput\u001b[0m\u001b[0;34m)\u001b[0m\u001b[0;34m\u001b[0m\u001b[0;34m\u001b[0m\u001b[0m\n\u001b[0m",
            "\u001b[0;32m/usr/lib/python3.8/multiprocessing/pool.py\u001b[0m in \u001b[0;36mmap\u001b[0;34m(self, func, iterable, chunksize)\u001b[0m\n\u001b[1;32m    362\u001b[0m         \u001b[0;32min\u001b[0m \u001b[0ma\u001b[0m \u001b[0mlist\u001b[0m \u001b[0mthat\u001b[0m \u001b[0;32mis\u001b[0m \u001b[0mreturned\u001b[0m\u001b[0;34m.\u001b[0m\u001b[0;34m\u001b[0m\u001b[0;34m\u001b[0m\u001b[0m\n\u001b[1;32m    363\u001b[0m         '''\n\u001b[0;32m--> 364\u001b[0;31m         \u001b[0;32mreturn\u001b[0m \u001b[0mself\u001b[0m\u001b[0;34m.\u001b[0m\u001b[0m_map_async\u001b[0m\u001b[0;34m(\u001b[0m\u001b[0mfunc\u001b[0m\u001b[0;34m,\u001b[0m \u001b[0miterable\u001b[0m\u001b[0;34m,\u001b[0m \u001b[0mmapstar\u001b[0m\u001b[0;34m,\u001b[0m \u001b[0mchunksize\u001b[0m\u001b[0;34m)\u001b[0m\u001b[0;34m.\u001b[0m\u001b[0mget\u001b[0m\u001b[0;34m(\u001b[0m\u001b[0;34m)\u001b[0m\u001b[0;34m\u001b[0m\u001b[0;34m\u001b[0m\u001b[0m\n\u001b[0m\u001b[1;32m    365\u001b[0m \u001b[0;34m\u001b[0m\u001b[0m\n\u001b[1;32m    366\u001b[0m     \u001b[0;32mdef\u001b[0m \u001b[0mstarmap\u001b[0m\u001b[0;34m(\u001b[0m\u001b[0mself\u001b[0m\u001b[0;34m,\u001b[0m \u001b[0mfunc\u001b[0m\u001b[0;34m,\u001b[0m \u001b[0miterable\u001b[0m\u001b[0;34m,\u001b[0m \u001b[0mchunksize\u001b[0m\u001b[0;34m=\u001b[0m\u001b[0;32mNone\u001b[0m\u001b[0;34m)\u001b[0m\u001b[0;34m:\u001b[0m\u001b[0;34m\u001b[0m\u001b[0;34m\u001b[0m\u001b[0m\n",
            "\u001b[0;32m/usr/lib/python3.8/multiprocessing/pool.py\u001b[0m in \u001b[0;36mget\u001b[0;34m(self, timeout)\u001b[0m\n\u001b[1;32m    763\u001b[0m \u001b[0;34m\u001b[0m\u001b[0m\n\u001b[1;32m    764\u001b[0m     \u001b[0;32mdef\u001b[0m \u001b[0mget\u001b[0m\u001b[0;34m(\u001b[0m\u001b[0mself\u001b[0m\u001b[0;34m,\u001b[0m \u001b[0mtimeout\u001b[0m\u001b[0;34m=\u001b[0m\u001b[0;32mNone\u001b[0m\u001b[0;34m)\u001b[0m\u001b[0;34m:\u001b[0m\u001b[0;34m\u001b[0m\u001b[0;34m\u001b[0m\u001b[0m\n\u001b[0;32m--> 765\u001b[0;31m         \u001b[0mself\u001b[0m\u001b[0;34m.\u001b[0m\u001b[0mwait\u001b[0m\u001b[0;34m(\u001b[0m\u001b[0mtimeout\u001b[0m\u001b[0;34m)\u001b[0m\u001b[0;34m\u001b[0m\u001b[0;34m\u001b[0m\u001b[0m\n\u001b[0m\u001b[1;32m    766\u001b[0m         \u001b[0;32mif\u001b[0m \u001b[0;32mnot\u001b[0m \u001b[0mself\u001b[0m\u001b[0;34m.\u001b[0m\u001b[0mready\u001b[0m\u001b[0;34m(\u001b[0m\u001b[0;34m)\u001b[0m\u001b[0;34m:\u001b[0m\u001b[0;34m\u001b[0m\u001b[0;34m\u001b[0m\u001b[0m\n\u001b[1;32m    767\u001b[0m             \u001b[0;32mraise\u001b[0m \u001b[0mTimeoutError\u001b[0m\u001b[0;34m\u001b[0m\u001b[0;34m\u001b[0m\u001b[0m\n",
            "\u001b[0;32m/usr/lib/python3.8/multiprocessing/pool.py\u001b[0m in \u001b[0;36mwait\u001b[0;34m(self, timeout)\u001b[0m\n\u001b[1;32m    760\u001b[0m \u001b[0;34m\u001b[0m\u001b[0m\n\u001b[1;32m    761\u001b[0m     \u001b[0;32mdef\u001b[0m \u001b[0mwait\u001b[0m\u001b[0;34m(\u001b[0m\u001b[0mself\u001b[0m\u001b[0;34m,\u001b[0m \u001b[0mtimeout\u001b[0m\u001b[0;34m=\u001b[0m\u001b[0;32mNone\u001b[0m\u001b[0;34m)\u001b[0m\u001b[0;34m:\u001b[0m\u001b[0;34m\u001b[0m\u001b[0;34m\u001b[0m\u001b[0m\n\u001b[0;32m--> 762\u001b[0;31m         \u001b[0mself\u001b[0m\u001b[0;34m.\u001b[0m\u001b[0m_event\u001b[0m\u001b[0;34m.\u001b[0m\u001b[0mwait\u001b[0m\u001b[0;34m(\u001b[0m\u001b[0mtimeout\u001b[0m\u001b[0;34m)\u001b[0m\u001b[0;34m\u001b[0m\u001b[0;34m\u001b[0m\u001b[0m\n\u001b[0m\u001b[1;32m    763\u001b[0m \u001b[0;34m\u001b[0m\u001b[0m\n\u001b[1;32m    764\u001b[0m     \u001b[0;32mdef\u001b[0m \u001b[0mget\u001b[0m\u001b[0;34m(\u001b[0m\u001b[0mself\u001b[0m\u001b[0;34m,\u001b[0m \u001b[0mtimeout\u001b[0m\u001b[0;34m=\u001b[0m\u001b[0;32mNone\u001b[0m\u001b[0;34m)\u001b[0m\u001b[0;34m:\u001b[0m\u001b[0;34m\u001b[0m\u001b[0;34m\u001b[0m\u001b[0m\n",
            "\u001b[0;32m/usr/lib/python3.8/threading.py\u001b[0m in \u001b[0;36mwait\u001b[0;34m(self, timeout)\u001b[0m\n\u001b[1;32m    556\u001b[0m             \u001b[0msignaled\u001b[0m \u001b[0;34m=\u001b[0m \u001b[0mself\u001b[0m\u001b[0;34m.\u001b[0m\u001b[0m_flag\u001b[0m\u001b[0;34m\u001b[0m\u001b[0;34m\u001b[0m\u001b[0m\n\u001b[1;32m    557\u001b[0m             \u001b[0;32mif\u001b[0m \u001b[0;32mnot\u001b[0m \u001b[0msignaled\u001b[0m\u001b[0;34m:\u001b[0m\u001b[0;34m\u001b[0m\u001b[0;34m\u001b[0m\u001b[0m\n\u001b[0;32m--> 558\u001b[0;31m                 \u001b[0msignaled\u001b[0m \u001b[0;34m=\u001b[0m \u001b[0mself\u001b[0m\u001b[0;34m.\u001b[0m\u001b[0m_cond\u001b[0m\u001b[0;34m.\u001b[0m\u001b[0mwait\u001b[0m\u001b[0;34m(\u001b[0m\u001b[0mtimeout\u001b[0m\u001b[0;34m)\u001b[0m\u001b[0;34m\u001b[0m\u001b[0;34m\u001b[0m\u001b[0m\n\u001b[0m\u001b[1;32m    559\u001b[0m             \u001b[0;32mreturn\u001b[0m \u001b[0msignaled\u001b[0m\u001b[0;34m\u001b[0m\u001b[0;34m\u001b[0m\u001b[0m\n\u001b[1;32m    560\u001b[0m \u001b[0;34m\u001b[0m\u001b[0m\n",
            "\u001b[0;32m/usr/lib/python3.8/threading.py\u001b[0m in \u001b[0;36mwait\u001b[0;34m(self, timeout)\u001b[0m\n\u001b[1;32m    300\u001b[0m         \u001b[0;32mtry\u001b[0m\u001b[0;34m:\u001b[0m    \u001b[0;31m# restore state no matter what (e.g., KeyboardInterrupt)\u001b[0m\u001b[0;34m\u001b[0m\u001b[0;34m\u001b[0m\u001b[0m\n\u001b[1;32m    301\u001b[0m             \u001b[0;32mif\u001b[0m \u001b[0mtimeout\u001b[0m \u001b[0;32mis\u001b[0m \u001b[0;32mNone\u001b[0m\u001b[0;34m:\u001b[0m\u001b[0;34m\u001b[0m\u001b[0;34m\u001b[0m\u001b[0m\n\u001b[0;32m--> 302\u001b[0;31m                 \u001b[0mwaiter\u001b[0m\u001b[0;34m.\u001b[0m\u001b[0macquire\u001b[0m\u001b[0;34m(\u001b[0m\u001b[0;34m)\u001b[0m\u001b[0;34m\u001b[0m\u001b[0;34m\u001b[0m\u001b[0m\n\u001b[0m\u001b[1;32m    303\u001b[0m                 \u001b[0mgotit\u001b[0m \u001b[0;34m=\u001b[0m \u001b[0;32mTrue\u001b[0m\u001b[0;34m\u001b[0m\u001b[0;34m\u001b[0m\u001b[0m\n\u001b[1;32m    304\u001b[0m             \u001b[0;32melse\u001b[0m\u001b[0;34m:\u001b[0m\u001b[0;34m\u001b[0m\u001b[0;34m\u001b[0m\u001b[0m\n",
            "\u001b[0;31mKeyboardInterrupt\u001b[0m: "
          ]
        }
      ],
      "source": [
        "import json\n",
        "import csv\n",
        "import re\n",
        "import requests\n",
        "from multiprocessing import Pool\n",
        "import html\n",
        "from time import time,localtime\n",
        "aladin_headers = {\n",
        "    \"User-Agent\": \"Mozilla/5.0 (X11; CrOS x86_64 12871.102.0) AppleWebKit/537.36 (KHTML, like Gecko) Chrome/81.0.4044.141 Safari/537.36\",\n",
        "    \"Connection\": \"close\"}\n",
        "header = ['제목','저자', '출판', '청구기호','목차']\n",
        "\n",
        "i_range = 10000\n",
        "i_start = 360000\n",
        "\n",
        "def WriteCSV(start_i: int):\n",
        "  i = start_i\n",
        "  count = start_i\n",
        "  path = \"/content/gdrive/MyDrive/LibraryCsv/\"\n",
        "  filename = \"librarydata_windex_{start_i}-{max_i}.csv\".format(start_i = start_i, max_i = start_i+i_range)\n",
        "\n",
        "  with open(path + filename, 'w', encoding='UTF8', newline='') as f:\n",
        "    writer = csv.writer(f)\n",
        "    writer.writerow(header)\n",
        "    last = time()\n",
        "    while i < (start_i + i_range): #454545\n",
        "      params['offset'] = i\n",
        "      if(i_start == start_i):\n",
        "        current = time()\n",
        "        percentage = (i - start_i)/i_range\n",
        "        print(f'진행중... {percentage :2.2%} 완료! {current - last: .2f}초')\n",
        "        last = current\n",
        "      i+=100\n",
        "      response = requests.get('https://library.ajou.ac.kr/pyxis-api/1/collections/1/search', params=params, cookies=cookies, headers=headers)\n",
        "      data = response.json()\n",
        "      try:\n",
        "        new_dict = data['data']\n",
        "      except KeyError:\n",
        "        print(\"Error at :\",i-100)\n",
        "        print(data)\n",
        "        continue;\n",
        "      for j in new_dict['list']:\n",
        "        count+=1\n",
        "        try:\n",
        "          branch_dict = j['branchVolumes'][0]\n",
        "        except IndexError:\n",
        "          #print(j['titleStatement'],) #청구기호 조회 안된건 안넣고 제목만 참고용으로 출력\n",
        "          continue\n",
        "        isbn = j['isbn']\n",
        "        if(isbn == None):\n",
        "          continue\n",
        "        isbn.split('.')[0]\n",
        "        response = requests.get('https://library.ajou.ac.kr/pyxis-api/mashup-aladin/'+ isbn + '/toc', headers=aladin_headers)\n",
        "        data = response.json()\n",
        "        if(data['code'] == 'success.retrieved'):\n",
        "          index_text = data['data']\n",
        "          index_text = re.sub(\"[\\<].*?[\\>]\", \"\", index_text)\n",
        "          if(index_text == \"\"):\n",
        "            continue\n",
        "          index_text = html.unescape(index_text)\n",
        "          writer.writerow([j['titleStatement'], j['author'],j['publication'], branch_dict['volume'], index_text])\n",
        "        #이후 https://library.ajou.ac.kr/pyxis-api/mashup-aladin/ * ISBN  * /toc 을 통해 목차까지 같이 조회해서 하는거 진행해야함\n",
        "\n",
        "if __name__ == \"__main__\":\n",
        "  input = []\n",
        "  process_num = 5\n",
        "  for i in range(process_num):\n",
        "    input.append(i_start +i*i_range) \n",
        "  print(input)\n",
        "  with Pool(processes=process_num) as pool:  \n",
        "    pool.map(WriteCSV, input) "
      ]
    }
  ],
  "metadata": {
    "colab": {
      "provenance": [],
      "machine_shape": "hm",
      "mount_file_id": "1HvziIJzIIEMxFkJdOfqtGIbsQrkirC-2",
      "authorship_tag": "ABX9TyP7GhjOIsRyn7FKbWGmc7SP",
      "include_colab_link": true
    },
    "kernelspec": {
      "display_name": "Python 3",
      "name": "python3"
    },
    "language_info": {
      "name": "python"
    },
    "accelerator": "GPU",
    "gpuClass": "premium"
  },
  "nbformat": 4,
  "nbformat_minor": 0
}