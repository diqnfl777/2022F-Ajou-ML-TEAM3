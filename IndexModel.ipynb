{
  "nbformat": 4,
  "nbformat_minor": 0,
  "metadata": {
    "colab": {
      "provenance": [],
      "machine_shape": "hm",
      "mount_file_id": "1-SYxn6295eUazKbshf6nboCDUriKLDWp",
      "authorship_tag": "ABX9TyOAwXsFWdROxoIAk1w9Phei",
      "include_colab_link": true
    },
    "kernelspec": {
      "name": "python3",
      "display_name": "Python 3"
    },
    "language_info": {
      "name": "python"
    },
    "accelerator": "GPU",
    "gpuClass": "standard"
  },
  "cells": [
    {
      "cell_type": "markdown",
      "metadata": {
        "id": "view-in-github",
        "colab_type": "text"
      },
      "source": [
        "<a href=\"https://colab.research.google.com/github/diqnfl777/2022F-Ajou-ML-TEAM3/blob/main/IndexModel.ipynb\" target=\"_parent\"><img src=\"https://colab.research.google.com/assets/colab-badge.svg\" alt=\"Open In Colab\"/></a>"
      ]
    },
    {
      "cell_type": "markdown",
      "source": [
        "## 패키지 설치 및 드라이브 마운트"
      ],
      "metadata": {
        "id": "ScH6qkWS03am"
      }
    },
    {
      "cell_type": "code",
      "execution_count": 1,
      "metadata": {
        "colab": {
          "base_uri": "https://localhost:8080/"
        },
        "id": "mOn3y2YhRbUH",
        "outputId": "b655d66a-1ff1-497b-ebef-da1844a91685"
      },
      "outputs": [
        {
          "output_type": "stream",
          "name": "stdout",
          "text": [
            "Drive already mounted at /content/gdrive; to attempt to forcibly remount, call drive.mount(\"/content/gdrive\", force_remount=True).\n"
          ]
        }
      ],
      "source": [
        "from google.colab import drive\n",
        "drive.mount('/content/gdrive')"
      ]
    },
    {
      "cell_type": "code",
      "source": [
        "# 트랜스포머 설치\n",
        "!pip install transformers"
      ],
      "metadata": {
        "id": "HONdphwJRrnx"
      },
      "execution_count": null,
      "outputs": []
    },
    {
      "cell_type": "code",
      "source": [
        "from transformers import AutoTokenizer\n",
        "import tensorflow as tf\n",
        "import os\n",
        "import numpy as np\n",
        "import pandas as pd\n",
        "from sklearn.model_selection import train_test_split\n",
        "from sklearn.linear_model import LogisticRegression\n",
        "from sklearn.model_selection import GridSearchCV\n",
        "from sklearn.model_selection import cross_val_score\n",
        "import torch\n",
        "import transformers as ppb\n",
        "import warnings\n",
        "\n",
        "from torch import nn\n",
        "import torch.nn.functional as F\n",
        "import torch.optim as optim\n",
        "from torch.utils.data import Dataset, DataLoader\n",
        "from tqdm import tqdm, tqdm_notebook\n"
      ],
      "metadata": {
        "id": "xxgw1Hs-SRBm"
      },
      "execution_count": 2,
      "outputs": []
    },
    {
      "cell_type": "code",
      "source": [],
      "metadata": {
        "id": "bxhdyZ_LYfZP"
      },
      "execution_count": null,
      "outputs": []
    },
    {
      "cell_type": "markdown",
      "source": [
        "### 데이터 가공 파트\n"
      ],
      "metadata": {
        "id": "5uwkx-cg0Coo"
      }
    },
    {
      "cell_type": "code",
      "source": [
        "#데이터 가공\n",
        "#청구기호 숫자 앞 2개만 따와서 각각 매핑. 65~70은 예외적으로 경영학\n",
        "data = pd.read_csv(\"/content/gdrive/MyDrive/LibraryCsv/indexhapbon.csv\",encoding='UTF8',usecols = ['제목', '청구번호','목차'])\n",
        "data = data.loc[:,['제목', '청구번호','목차']]\n",
        "data = data.dropna()\n",
        "data = data.drop_duplicates()\n",
        "data"
      ],
      "metadata": {
        "colab": {
          "base_uri": "https://localhost:8080/",
          "height": 424
        },
        "id": "3r-ZHPqfYewr",
        "outputId": "247c32a9-2b23-4ad3-f425-e3f9171527c2"
      },
      "execution_count": 3,
      "outputs": [
        {
          "output_type": "execute_result",
          "data": {
            "text/plain": [
              "                                      제목              청구번호  \\\n",
              "0                      어디서 무엇이 되어 다시 만나랴       811.3 최68어샘   \n",
              "1                            나의 사랑 클레멘타인       811.3 최68나샘   \n",
              "2                       초파리를 알면 유전자가 보인다   595.774 M699fK이   \n",
              "3                              아웃사이더의 반란  320.5662 R518rK장   \n",
              "4          브랜드 인문학 :잠재된 표현 욕망을 깨우는 감각 수업      658.827 김25브   \n",
              "...                                  ...               ...   \n",
              "71533                          한국 시극사 연구      811.209 이52한   \n",
              "71534  조선의 서정시인 퇴계 이황 : 우리가 몰랐던 퇴계의 남도여행       811.14 정66조   \n",
              "71535            내면기행 : 선인들, 스스로 묘비명을 쓰다        929.5 심14내   \n",
              "71536                        뉴 스토리 뉴 스타일        070.4 송52뉴   \n",
              "71537           (채용담당자가 공개하는) AI면접 합격 기술    658.31124 설38a   \n",
              "\n",
              "                                                      목차  \n",
              "0                    \\n\\n결혼식 ㅣ 아기 ㅣ 신혼기 ㅣ 아내의 머리칼 ㅣ 아...  \n",
              "1                    \\n\\n결혼식 ㅣ 아기 ㅣ 신혼기 ㅣ 아내의 머리칼 ㅣ 아...  \n",
              "2              서문 \\r\\n        서론 \\r\\n제1장   지도\\r\\n제2장 ...  \n",
              "3            한국어판 서문 / 5\\r\\n      프롤로그 / 13\\r\\n제1장 보수...  \n",
              "4           1부-정체성\\r\\n1 프라다: 나의 정체성을 알 때, 비로소 브랜드는 ‘필...  \n",
              "...                                                  ...  \n",
              "71533  ㆍ책머리에 \\r\\n\\r\\n제1장 서론 \\r\\n\\r\\n1. 연구 목적…17 \\r\\n2...  \n",
              "71534  ㆍ책머리에\\r\\n\\r\\n1. 퇴계의 시혼, 남도에서 피다\\r\\n퇴계가 남쪽으로 간 ...  \n",
              "71535  ㆍ책을 엮으며\\r\\n\\r\\n제1부 이사람을 보라\\r\\n제2부 이것으로 만족이다\\r\\...  \n",
              "71536  ㆍ책을 펴내며\\r\\n\\r\\n서 장 새로움을 위해\\r\\n제1장 살인의 추억\\r\\n제2...  \n",
              "71537  ㆍ프롤로그\\tAI면접에 대한 올바른 접근\\r\\n\\r\\nㆍPART 1\\tAI면접이란 ...  \n",
              "\n",
              "[71480 rows x 3 columns]"
            ],
            "text/html": [
              "\n",
              "  <div id=\"df-e5a6d632-ea85-413a-873d-4364be495425\">\n",
              "    <div class=\"colab-df-container\">\n",
              "      <div>\n",
              "<style scoped>\n",
              "    .dataframe tbody tr th:only-of-type {\n",
              "        vertical-align: middle;\n",
              "    }\n",
              "\n",
              "    .dataframe tbody tr th {\n",
              "        vertical-align: top;\n",
              "    }\n",
              "\n",
              "    .dataframe thead th {\n",
              "        text-align: right;\n",
              "    }\n",
              "</style>\n",
              "<table border=\"1\" class=\"dataframe\">\n",
              "  <thead>\n",
              "    <tr style=\"text-align: right;\">\n",
              "      <th></th>\n",
              "      <th>제목</th>\n",
              "      <th>청구번호</th>\n",
              "      <th>목차</th>\n",
              "    </tr>\n",
              "  </thead>\n",
              "  <tbody>\n",
              "    <tr>\n",
              "      <th>0</th>\n",
              "      <td>어디서 무엇이 되어 다시 만나랴</td>\n",
              "      <td>811.3 최68어샘</td>\n",
              "      <td>\\n\\n결혼식 ㅣ 아기 ㅣ 신혼기 ㅣ 아내의 머리칼 ㅣ 아...</td>\n",
              "    </tr>\n",
              "    <tr>\n",
              "      <th>1</th>\n",
              "      <td>나의 사랑 클레멘타인</td>\n",
              "      <td>811.3 최68나샘</td>\n",
              "      <td>\\n\\n결혼식 ㅣ 아기 ㅣ 신혼기 ㅣ 아내의 머리칼 ㅣ 아...</td>\n",
              "    </tr>\n",
              "    <tr>\n",
              "      <th>2</th>\n",
              "      <td>초파리를 알면 유전자가 보인다</td>\n",
              "      <td>595.774 M699fK이</td>\n",
              "      <td>서문 \\r\\n        서론 \\r\\n제1장   지도\\r\\n제2장 ...</td>\n",
              "    </tr>\n",
              "    <tr>\n",
              "      <th>3</th>\n",
              "      <td>아웃사이더의 반란</td>\n",
              "      <td>320.5662 R518rK장</td>\n",
              "      <td>한국어판 서문 / 5\\r\\n      프롤로그 / 13\\r\\n제1장 보수...</td>\n",
              "    </tr>\n",
              "    <tr>\n",
              "      <th>4</th>\n",
              "      <td>브랜드 인문학 :잠재된 표현 욕망을 깨우는 감각 수업</td>\n",
              "      <td>658.827 김25브</td>\n",
              "      <td>1부-정체성\\r\\n1 프라다: 나의 정체성을 알 때, 비로소 브랜드는 ‘필...</td>\n",
              "    </tr>\n",
              "    <tr>\n",
              "      <th>...</th>\n",
              "      <td>...</td>\n",
              "      <td>...</td>\n",
              "      <td>...</td>\n",
              "    </tr>\n",
              "    <tr>\n",
              "      <th>71533</th>\n",
              "      <td>한국 시극사 연구</td>\n",
              "      <td>811.209 이52한</td>\n",
              "      <td>ㆍ책머리에 \\r\\n\\r\\n제1장 서론 \\r\\n\\r\\n1. 연구 목적…17 \\r\\n2...</td>\n",
              "    </tr>\n",
              "    <tr>\n",
              "      <th>71534</th>\n",
              "      <td>조선의 서정시인 퇴계 이황 : 우리가 몰랐던 퇴계의 남도여행</td>\n",
              "      <td>811.14 정66조</td>\n",
              "      <td>ㆍ책머리에\\r\\n\\r\\n1. 퇴계의 시혼, 남도에서 피다\\r\\n퇴계가 남쪽으로 간 ...</td>\n",
              "    </tr>\n",
              "    <tr>\n",
              "      <th>71535</th>\n",
              "      <td>내면기행 : 선인들, 스스로 묘비명을 쓰다</td>\n",
              "      <td>929.5 심14내</td>\n",
              "      <td>ㆍ책을 엮으며\\r\\n\\r\\n제1부 이사람을 보라\\r\\n제2부 이것으로 만족이다\\r\\...</td>\n",
              "    </tr>\n",
              "    <tr>\n",
              "      <th>71536</th>\n",
              "      <td>뉴 스토리 뉴 스타일</td>\n",
              "      <td>070.4 송52뉴</td>\n",
              "      <td>ㆍ책을 펴내며\\r\\n\\r\\n서 장 새로움을 위해\\r\\n제1장 살인의 추억\\r\\n제2...</td>\n",
              "    </tr>\n",
              "    <tr>\n",
              "      <th>71537</th>\n",
              "      <td>(채용담당자가 공개하는) AI면접 합격 기술</td>\n",
              "      <td>658.31124 설38a</td>\n",
              "      <td>ㆍ프롤로그\\tAI면접에 대한 올바른 접근\\r\\n\\r\\nㆍPART 1\\tAI면접이란 ...</td>\n",
              "    </tr>\n",
              "  </tbody>\n",
              "</table>\n",
              "<p>71480 rows × 3 columns</p>\n",
              "</div>\n",
              "      <button class=\"colab-df-convert\" onclick=\"convertToInteractive('df-e5a6d632-ea85-413a-873d-4364be495425')\"\n",
              "              title=\"Convert this dataframe to an interactive table.\"\n",
              "              style=\"display:none;\">\n",
              "        \n",
              "  <svg xmlns=\"http://www.w3.org/2000/svg\" height=\"24px\"viewBox=\"0 0 24 24\"\n",
              "       width=\"24px\">\n",
              "    <path d=\"M0 0h24v24H0V0z\" fill=\"none\"/>\n",
              "    <path d=\"M18.56 5.44l.94 2.06.94-2.06 2.06-.94-2.06-.94-.94-2.06-.94 2.06-2.06.94zm-11 1L8.5 8.5l.94-2.06 2.06-.94-2.06-.94L8.5 2.5l-.94 2.06-2.06.94zm10 10l.94 2.06.94-2.06 2.06-.94-2.06-.94-.94-2.06-.94 2.06-2.06.94z\"/><path d=\"M17.41 7.96l-1.37-1.37c-.4-.4-.92-.59-1.43-.59-.52 0-1.04.2-1.43.59L10.3 9.45l-7.72 7.72c-.78.78-.78 2.05 0 2.83L4 21.41c.39.39.9.59 1.41.59.51 0 1.02-.2 1.41-.59l7.78-7.78 2.81-2.81c.8-.78.8-2.07 0-2.86zM5.41 20L4 18.59l7.72-7.72 1.47 1.35L5.41 20z\"/>\n",
              "  </svg>\n",
              "      </button>\n",
              "      \n",
              "  <style>\n",
              "    .colab-df-container {\n",
              "      display:flex;\n",
              "      flex-wrap:wrap;\n",
              "      gap: 12px;\n",
              "    }\n",
              "\n",
              "    .colab-df-convert {\n",
              "      background-color: #E8F0FE;\n",
              "      border: none;\n",
              "      border-radius: 50%;\n",
              "      cursor: pointer;\n",
              "      display: none;\n",
              "      fill: #1967D2;\n",
              "      height: 32px;\n",
              "      padding: 0 0 0 0;\n",
              "      width: 32px;\n",
              "    }\n",
              "\n",
              "    .colab-df-convert:hover {\n",
              "      background-color: #E2EBFA;\n",
              "      box-shadow: 0px 1px 2px rgba(60, 64, 67, 0.3), 0px 1px 3px 1px rgba(60, 64, 67, 0.15);\n",
              "      fill: #174EA6;\n",
              "    }\n",
              "\n",
              "    [theme=dark] .colab-df-convert {\n",
              "      background-color: #3B4455;\n",
              "      fill: #D2E3FC;\n",
              "    }\n",
              "\n",
              "    [theme=dark] .colab-df-convert:hover {\n",
              "      background-color: #434B5C;\n",
              "      box-shadow: 0px 1px 3px 1px rgba(0, 0, 0, 0.15);\n",
              "      filter: drop-shadow(0px 1px 2px rgba(0, 0, 0, 0.3));\n",
              "      fill: #FFFFFF;\n",
              "    }\n",
              "  </style>\n",
              "\n",
              "      <script>\n",
              "        const buttonEl =\n",
              "          document.querySelector('#df-e5a6d632-ea85-413a-873d-4364be495425 button.colab-df-convert');\n",
              "        buttonEl.style.display =\n",
              "          google.colab.kernel.accessAllowed ? 'block' : 'none';\n",
              "\n",
              "        async function convertToInteractive(key) {\n",
              "          const element = document.querySelector('#df-e5a6d632-ea85-413a-873d-4364be495425');\n",
              "          const dataTable =\n",
              "            await google.colab.kernel.invokeFunction('convertToInteractive',\n",
              "                                                     [key], {});\n",
              "          if (!dataTable) return;\n",
              "\n",
              "          const docLinkHtml = 'Like what you see? Visit the ' +\n",
              "            '<a target=\"_blank\" href=https://colab.research.google.com/notebooks/data_table.ipynb>data table notebook</a>'\n",
              "            + ' to learn more about interactive tables.';\n",
              "          element.innerHTML = '';\n",
              "          dataTable['output_type'] = 'display_data';\n",
              "          await google.colab.output.renderOutput(dataTable, element);\n",
              "          const docLink = document.createElement('div');\n",
              "          docLink.innerHTML = docLinkHtml;\n",
              "          element.appendChild(docLink);\n",
              "        }\n",
              "      </script>\n",
              "    </div>\n",
              "  </div>\n",
              "  "
            ]
          },
          "metadata": {},
          "execution_count": 3
        }
      ]
    },
    {
      "cell_type": "code",
      "source": [
        "import re \n",
        "data['청구번호'] = data['청구번호'].replace({r'(.*?)(\\d{2})\\d.*' : r'\\2'}, regex=True)\n",
        "data"
      ],
      "metadata": {
        "colab": {
          "base_uri": "https://localhost:8080/",
          "height": 424
        },
        "id": "w8S_w8f2jfvi",
        "outputId": "19581f70-1e67-4a5a-ed49-f6d2dd5ed3ff"
      },
      "execution_count": 4,
      "outputs": [
        {
          "output_type": "execute_result",
          "data": {
            "text/plain": [
              "                                      제목 청구번호  \\\n",
              "0                      어디서 무엇이 되어 다시 만나랴   81   \n",
              "1                            나의 사랑 클레멘타인   81   \n",
              "2                       초파리를 알면 유전자가 보인다   59   \n",
              "3                              아웃사이더의 반란   32   \n",
              "4          브랜드 인문학 :잠재된 표현 욕망을 깨우는 감각 수업   65   \n",
              "...                                  ...  ...   \n",
              "71533                          한국 시극사 연구   81   \n",
              "71534  조선의 서정시인 퇴계 이황 : 우리가 몰랐던 퇴계의 남도여행   81   \n",
              "71535            내면기행 : 선인들, 스스로 묘비명을 쓰다   92   \n",
              "71536                        뉴 스토리 뉴 스타일   07   \n",
              "71537           (채용담당자가 공개하는) AI면접 합격 기술   65   \n",
              "\n",
              "                                                      목차  \n",
              "0                    \\n\\n결혼식 ㅣ 아기 ㅣ 신혼기 ㅣ 아내의 머리칼 ㅣ 아...  \n",
              "1                    \\n\\n결혼식 ㅣ 아기 ㅣ 신혼기 ㅣ 아내의 머리칼 ㅣ 아...  \n",
              "2              서문 \\r\\n        서론 \\r\\n제1장   지도\\r\\n제2장 ...  \n",
              "3            한국어판 서문 / 5\\r\\n      프롤로그 / 13\\r\\n제1장 보수...  \n",
              "4           1부-정체성\\r\\n1 프라다: 나의 정체성을 알 때, 비로소 브랜드는 ‘필...  \n",
              "...                                                  ...  \n",
              "71533  ㆍ책머리에 \\r\\n\\r\\n제1장 서론 \\r\\n\\r\\n1. 연구 목적…17 \\r\\n2...  \n",
              "71534  ㆍ책머리에\\r\\n\\r\\n1. 퇴계의 시혼, 남도에서 피다\\r\\n퇴계가 남쪽으로 간 ...  \n",
              "71535  ㆍ책을 엮으며\\r\\n\\r\\n제1부 이사람을 보라\\r\\n제2부 이것으로 만족이다\\r\\...  \n",
              "71536  ㆍ책을 펴내며\\r\\n\\r\\n서 장 새로움을 위해\\r\\n제1장 살인의 추억\\r\\n제2...  \n",
              "71537  ㆍ프롤로그\\tAI면접에 대한 올바른 접근\\r\\n\\r\\nㆍPART 1\\tAI면접이란 ...  \n",
              "\n",
              "[71480 rows x 3 columns]"
            ],
            "text/html": [
              "\n",
              "  <div id=\"df-6c689b67-3d33-4784-9f06-61f54d8a5678\">\n",
              "    <div class=\"colab-df-container\">\n",
              "      <div>\n",
              "<style scoped>\n",
              "    .dataframe tbody tr th:only-of-type {\n",
              "        vertical-align: middle;\n",
              "    }\n",
              "\n",
              "    .dataframe tbody tr th {\n",
              "        vertical-align: top;\n",
              "    }\n",
              "\n",
              "    .dataframe thead th {\n",
              "        text-align: right;\n",
              "    }\n",
              "</style>\n",
              "<table border=\"1\" class=\"dataframe\">\n",
              "  <thead>\n",
              "    <tr style=\"text-align: right;\">\n",
              "      <th></th>\n",
              "      <th>제목</th>\n",
              "      <th>청구번호</th>\n",
              "      <th>목차</th>\n",
              "    </tr>\n",
              "  </thead>\n",
              "  <tbody>\n",
              "    <tr>\n",
              "      <th>0</th>\n",
              "      <td>어디서 무엇이 되어 다시 만나랴</td>\n",
              "      <td>81</td>\n",
              "      <td>\\n\\n결혼식 ㅣ 아기 ㅣ 신혼기 ㅣ 아내의 머리칼 ㅣ 아...</td>\n",
              "    </tr>\n",
              "    <tr>\n",
              "      <th>1</th>\n",
              "      <td>나의 사랑 클레멘타인</td>\n",
              "      <td>81</td>\n",
              "      <td>\\n\\n결혼식 ㅣ 아기 ㅣ 신혼기 ㅣ 아내의 머리칼 ㅣ 아...</td>\n",
              "    </tr>\n",
              "    <tr>\n",
              "      <th>2</th>\n",
              "      <td>초파리를 알면 유전자가 보인다</td>\n",
              "      <td>59</td>\n",
              "      <td>서문 \\r\\n        서론 \\r\\n제1장   지도\\r\\n제2장 ...</td>\n",
              "    </tr>\n",
              "    <tr>\n",
              "      <th>3</th>\n",
              "      <td>아웃사이더의 반란</td>\n",
              "      <td>32</td>\n",
              "      <td>한국어판 서문 / 5\\r\\n      프롤로그 / 13\\r\\n제1장 보수...</td>\n",
              "    </tr>\n",
              "    <tr>\n",
              "      <th>4</th>\n",
              "      <td>브랜드 인문학 :잠재된 표현 욕망을 깨우는 감각 수업</td>\n",
              "      <td>65</td>\n",
              "      <td>1부-정체성\\r\\n1 프라다: 나의 정체성을 알 때, 비로소 브랜드는 ‘필...</td>\n",
              "    </tr>\n",
              "    <tr>\n",
              "      <th>...</th>\n",
              "      <td>...</td>\n",
              "      <td>...</td>\n",
              "      <td>...</td>\n",
              "    </tr>\n",
              "    <tr>\n",
              "      <th>71533</th>\n",
              "      <td>한국 시극사 연구</td>\n",
              "      <td>81</td>\n",
              "      <td>ㆍ책머리에 \\r\\n\\r\\n제1장 서론 \\r\\n\\r\\n1. 연구 목적…17 \\r\\n2...</td>\n",
              "    </tr>\n",
              "    <tr>\n",
              "      <th>71534</th>\n",
              "      <td>조선의 서정시인 퇴계 이황 : 우리가 몰랐던 퇴계의 남도여행</td>\n",
              "      <td>81</td>\n",
              "      <td>ㆍ책머리에\\r\\n\\r\\n1. 퇴계의 시혼, 남도에서 피다\\r\\n퇴계가 남쪽으로 간 ...</td>\n",
              "    </tr>\n",
              "    <tr>\n",
              "      <th>71535</th>\n",
              "      <td>내면기행 : 선인들, 스스로 묘비명을 쓰다</td>\n",
              "      <td>92</td>\n",
              "      <td>ㆍ책을 엮으며\\r\\n\\r\\n제1부 이사람을 보라\\r\\n제2부 이것으로 만족이다\\r\\...</td>\n",
              "    </tr>\n",
              "    <tr>\n",
              "      <th>71536</th>\n",
              "      <td>뉴 스토리 뉴 스타일</td>\n",
              "      <td>07</td>\n",
              "      <td>ㆍ책을 펴내며\\r\\n\\r\\n서 장 새로움을 위해\\r\\n제1장 살인의 추억\\r\\n제2...</td>\n",
              "    </tr>\n",
              "    <tr>\n",
              "      <th>71537</th>\n",
              "      <td>(채용담당자가 공개하는) AI면접 합격 기술</td>\n",
              "      <td>65</td>\n",
              "      <td>ㆍ프롤로그\\tAI면접에 대한 올바른 접근\\r\\n\\r\\nㆍPART 1\\tAI면접이란 ...</td>\n",
              "    </tr>\n",
              "  </tbody>\n",
              "</table>\n",
              "<p>71480 rows × 3 columns</p>\n",
              "</div>\n",
              "      <button class=\"colab-df-convert\" onclick=\"convertToInteractive('df-6c689b67-3d33-4784-9f06-61f54d8a5678')\"\n",
              "              title=\"Convert this dataframe to an interactive table.\"\n",
              "              style=\"display:none;\">\n",
              "        \n",
              "  <svg xmlns=\"http://www.w3.org/2000/svg\" height=\"24px\"viewBox=\"0 0 24 24\"\n",
              "       width=\"24px\">\n",
              "    <path d=\"M0 0h24v24H0V0z\" fill=\"none\"/>\n",
              "    <path d=\"M18.56 5.44l.94 2.06.94-2.06 2.06-.94-2.06-.94-.94-2.06-.94 2.06-2.06.94zm-11 1L8.5 8.5l.94-2.06 2.06-.94-2.06-.94L8.5 2.5l-.94 2.06-2.06.94zm10 10l.94 2.06.94-2.06 2.06-.94-2.06-.94-.94-2.06-.94 2.06-2.06.94z\"/><path d=\"M17.41 7.96l-1.37-1.37c-.4-.4-.92-.59-1.43-.59-.52 0-1.04.2-1.43.59L10.3 9.45l-7.72 7.72c-.78.78-.78 2.05 0 2.83L4 21.41c.39.39.9.59 1.41.59.51 0 1.02-.2 1.41-.59l7.78-7.78 2.81-2.81c.8-.78.8-2.07 0-2.86zM5.41 20L4 18.59l7.72-7.72 1.47 1.35L5.41 20z\"/>\n",
              "  </svg>\n",
              "      </button>\n",
              "      \n",
              "  <style>\n",
              "    .colab-df-container {\n",
              "      display:flex;\n",
              "      flex-wrap:wrap;\n",
              "      gap: 12px;\n",
              "    }\n",
              "\n",
              "    .colab-df-convert {\n",
              "      background-color: #E8F0FE;\n",
              "      border: none;\n",
              "      border-radius: 50%;\n",
              "      cursor: pointer;\n",
              "      display: none;\n",
              "      fill: #1967D2;\n",
              "      height: 32px;\n",
              "      padding: 0 0 0 0;\n",
              "      width: 32px;\n",
              "    }\n",
              "\n",
              "    .colab-df-convert:hover {\n",
              "      background-color: #E2EBFA;\n",
              "      box-shadow: 0px 1px 2px rgba(60, 64, 67, 0.3), 0px 1px 3px 1px rgba(60, 64, 67, 0.15);\n",
              "      fill: #174EA6;\n",
              "    }\n",
              "\n",
              "    [theme=dark] .colab-df-convert {\n",
              "      background-color: #3B4455;\n",
              "      fill: #D2E3FC;\n",
              "    }\n",
              "\n",
              "    [theme=dark] .colab-df-convert:hover {\n",
              "      background-color: #434B5C;\n",
              "      box-shadow: 0px 1px 3px 1px rgba(0, 0, 0, 0.15);\n",
              "      filter: drop-shadow(0px 1px 2px rgba(0, 0, 0, 0.3));\n",
              "      fill: #FFFFFF;\n",
              "    }\n",
              "  </style>\n",
              "\n",
              "      <script>\n",
              "        const buttonEl =\n",
              "          document.querySelector('#df-6c689b67-3d33-4784-9f06-61f54d8a5678 button.colab-df-convert');\n",
              "        buttonEl.style.display =\n",
              "          google.colab.kernel.accessAllowed ? 'block' : 'none';\n",
              "\n",
              "        async function convertToInteractive(key) {\n",
              "          const element = document.querySelector('#df-6c689b67-3d33-4784-9f06-61f54d8a5678');\n",
              "          const dataTable =\n",
              "            await google.colab.kernel.invokeFunction('convertToInteractive',\n",
              "                                                     [key], {});\n",
              "          if (!dataTable) return;\n",
              "\n",
              "          const docLinkHtml = 'Like what you see? Visit the ' +\n",
              "            '<a target=\"_blank\" href=https://colab.research.google.com/notebooks/data_table.ipynb>data table notebook</a>'\n",
              "            + ' to learn more about interactive tables.';\n",
              "          element.innerHTML = '';\n",
              "          dataTable['output_type'] = 'display_data';\n",
              "          await google.colab.output.renderOutput(dataTable, element);\n",
              "          const docLink = document.createElement('div');\n",
              "          docLink.innerHTML = docLinkHtml;\n",
              "          element.appendChild(docLink);\n",
              "        }\n",
              "      </script>\n",
              "    </div>\n",
              "  </div>\n",
              "  "
            ]
          },
          "metadata": {},
          "execution_count": 4
        }
      ]
    },
    {
      "cell_type": "code",
      "source": [
        "data['청구번호'] = pd.to_numeric(data['청구번호'],errors = 'coerce')\n",
        "data = data.dropna()\n",
        "data.loc[(data['청구번호'] >= 100), ['청구번호']] = None\n",
        "data = data.dropna()\n",
        "data.loc[(data['청구번호'] < 10), ['청구번호']] = 1000\n",
        "data.loc[(data['청구번호'] < 20), ['청구번호']] = 1001\n",
        "data.loc[(data['청구번호'] < 30), ['청구번호']] = 1002\n",
        "data.loc[(data['청구번호'] < 40), ['청구번호']] = 1003\n",
        "data.loc[(data['청구번호'] < 50), ['청구번호']] = 1004\n",
        "data.loc[(data['청구번호'] < 60), ['청구번호']] = 1005\n",
        "data.loc[(data['청구번호'] < 65), ['청구번호']] = 1006 #경영학쪽은 따로 분류이기 떄문에 65 사용\n",
        "data.loc[(data['청구번호'] < 70), ['청구번호']] = 1007 #즉, 1007 쪽이 경영학책\n",
        "data.loc[(data['청구번호'] < 80), ['청구번호']] = 1008\n",
        "data.loc[(data['청구번호'] < 90), ['청구번호']] = 1009\n",
        "data.loc[(data['청구번호'] <  100), ['청구번호']] = 1010\n",
        "\n",
        "labels = {'0':'총류',\n",
        "          '1':'철학',\n",
        "          '2':'종교',\n",
        "          '3':'사회학',\n",
        "          '4':'언어',\n",
        "          '5':'자연과학',\n",
        "          '6':'기술과학',\n",
        "          '7':'경영학',\n",
        "          '8':'예술',\n",
        "          '9':'문학',\n",
        "          '10':'역사'\n",
        "          }"
      ],
      "metadata": {
        "id": "4YyliBVXtLgm",
        "colab": {
          "base_uri": "https://localhost:8080/"
        },
        "outputId": "bdbbb182-93c8-4715-9a8f-7c9aae6572cd"
      },
      "execution_count": 5,
      "outputs": [
        {
          "output_type": "stream",
          "name": "stderr",
          "text": [
            "/usr/local/lib/python3.8/dist-packages/pandas/core/indexing.py:1817: SettingWithCopyWarning: \n",
            "A value is trying to be set on a copy of a slice from a DataFrame.\n",
            "Try using .loc[row_indexer,col_indexer] = value instead\n",
            "\n",
            "See the caveats in the documentation: https://pandas.pydata.org/pandas-docs/stable/user_guide/indexing.html#returning-a-view-versus-a-copy\n",
            "  self._setitem_single_column(loc, value, pi)\n"
          ]
        }
      ]
    },
    {
      "cell_type": "code",
      "source": [
        "data['청구번호'].value_counts()"
      ],
      "metadata": {
        "colab": {
          "base_uri": "https://localhost:8080/"
        },
        "id": "ghP81y0GAhja",
        "outputId": "0c6dc287-98b1-441e-8359-b492f2c20cca"
      },
      "execution_count": 6,
      "outputs": [
        {
          "output_type": "execute_result",
          "data": {
            "text/plain": [
              "1003.0    16104\n",
              "1009.0    12101\n",
              "1006.0     7304\n",
              "1007.0     6982\n",
              "1001.0     5512\n",
              "1010.0     5298\n",
              "1000.0     5227\n",
              "1005.0     5113\n",
              "1008.0     4231\n",
              "1004.0     2162\n",
              "1002.0     1444\n",
              "Name: 청구번호, dtype: int64"
            ]
          },
          "metadata": {},
          "execution_count": 6
        }
      ]
    },
    {
      "cell_type": "code",
      "source": [
        "data['청구번호'] = data['청구번호']%1000\n",
        "data['청구번호'] = data['청구번호'].astype(int)\n"
      ],
      "metadata": {
        "id": "rgvyP8tRzAyf"
      },
      "execution_count": 7,
      "outputs": []
    },
    {
      "cell_type": "code",
      "source": [
        "'''\n",
        "data['청구번호'] = data['청구번호'].apply(str) #스트링 변환, 참고용. 모델 돌리려면 실행하면 안됩니다\n",
        "data['청구번호'] = data['청구번호'].replace(labels)\n",
        "data\n",
        "'''"
      ],
      "metadata": {
        "id": "fUbaT3uyxUZw",
        "colab": {
          "base_uri": "https://localhost:8080/",
          "height": 54
        },
        "outputId": "4ec2aba8-0fa9-44d7-c86d-7e08ecdd7187"
      },
      "execution_count": 8,
      "outputs": [
        {
          "output_type": "execute_result",
          "data": {
            "text/plain": [
              "\"\\ndata['청구번호'] = data['청구번호'].apply(str) #스트링 변환, 참고용. 모델 돌리려면 실행하면 안됩니다\\ndata['청구번호'] = data['청구번호'].replace(labels)\\ndata\\n\""
            ],
            "application/vnd.google.colaboratory.intrinsic+json": {
              "type": "string"
            }
          },
          "metadata": {},
          "execution_count": 8
        }
      ]
    },
    {
      "cell_type": "markdown",
      "source": [
        "###KOR\n"
      ],
      "metadata": {
        "id": "2MJEZl-a2Syz"
      }
    },
    {
      "cell_type": "markdown",
      "source": [
        "### ENG"
      ],
      "metadata": {
        "id": "n6PVJ0P7hI3I"
      }
    },
    {
      "cell_type": "code",
      "source": [
        "from transformers import BertModel\n",
        "\n",
        "class BertClassifier(nn.Module):\n",
        "\n",
        "    def __init__(self, dropout=0.75):\n",
        "\n",
        "        super(BertClassifier, self).__init__()\n",
        "\n",
        "        self.bert = BertModel.from_pretrained('bert-base-multilingual-cased')\n",
        "        self.dropout = nn.Dropout(dropout)\n",
        "        self.linear = nn.Linear(768, 11)\n",
        "        self.relu = nn.ReLU()\n",
        "\n",
        "    def forward(self, input_id, mask):\n",
        "\n",
        "        _, pooled_output = self.bert(input_ids= input_id, attention_mask=mask,return_dict=False)\n",
        "        dropout_output = self.dropout(pooled_output)\n",
        "        linear_output = self.linear(dropout_output)\n",
        "        final_layer = self.relu(linear_output)\n",
        "\n",
        "        return final_layer"
      ],
      "metadata": {
        "id": "WG0KXjsqaxZu"
      },
      "execution_count": 9,
      "outputs": []
    },
    {
      "cell_type": "code",
      "source": [
        "from tokenizers import Tokenizer\n",
        "from transformers import BertTokenizer, BertForSequenceClassification, BertConfig\n",
        "\n",
        "\n",
        "en_tokenizer = BertTokenizer.from_pretrained('bert-base-multilingual-cased')\n",
        "\n",
        "class EN_Dataset(torch.utils.data.Dataset):\n",
        "    def __init__(self, df):\n",
        "        self.labels =  df['청구번호'].values\n",
        "        self.dic = [en_tokenizer(text, padding='max_length', max_length = 512, truncation=True, return_tensors=\"pt\") for text in df['목차']]\n",
        "    \n",
        "    def __len__(self):\n",
        "        return len(self.labels)\n",
        "\n",
        "    def get_batch_labels(self, idx):\n",
        "        # Fetch a batch of labels\n",
        "        return np.array(self.labels[idx])\n",
        "\n",
        "    def __getitem__(self, idx):\n",
        "\n",
        "        batch_texts = self.dic[idx]\n",
        "        batch_y = self.get_batch_labels(idx)\n",
        "\n",
        "        return batch_texts, batch_y"
      ],
      "metadata": {
        "id": "tlvUT-T1sxMR"
      },
      "execution_count": 10,
      "outputs": []
    },
    {
      "cell_type": "code",
      "source": [
        "data['청구번호'].value_counts()"
      ],
      "metadata": {
        "colab": {
          "base_uri": "https://localhost:8080/"
        },
        "id": "9aE9H_kwjfWh",
        "outputId": "7cad6675-7cda-411f-966d-e72d418490f6"
      },
      "execution_count": 11,
      "outputs": [
        {
          "output_type": "execute_result",
          "data": {
            "text/plain": [
              "3     16104\n",
              "9     12101\n",
              "6      7304\n",
              "7      6982\n",
              "1      5512\n",
              "10     5298\n",
              "0      5227\n",
              "5      5113\n",
              "8      4231\n",
              "4      2162\n",
              "2      1444\n",
              "Name: 청구번호, dtype: int64"
            ]
          },
          "metadata": {},
          "execution_count": 11
        }
      ]
    },
    {
      "cell_type": "code",
      "source": [
        "indice = []\n",
        "for i in range(0,11):\n",
        "  indice.append(data.index[data['청구번호']==i]) \n",
        "for i in range(0,11):\n",
        "  data = data.drop(indice[i][int(1444):]) # get first 1138\n",
        "\n",
        "data['청구번호'].value_counts()"
      ],
      "metadata": {
        "colab": {
          "base_uri": "https://localhost:8080/"
        },
        "id": "NKQQsBOv_M9V",
        "outputId": "cad492a2-7f64-416b-ba19-70d19261223b"
      },
      "execution_count": 12,
      "outputs": [
        {
          "output_type": "execute_result",
          "data": {
            "text/plain": [
              "9     1444\n",
              "5     1444\n",
              "3     1444\n",
              "7     1444\n",
              "0     1444\n",
              "1     1444\n",
              "4     1444\n",
              "6     1444\n",
              "8     1444\n",
              "2     1444\n",
              "10    1444\n",
              "Name: 청구번호, dtype: int64"
            ]
          },
          "metadata": {},
          "execution_count": 12
        }
      ]
    },
    {
      "cell_type": "code",
      "source": [
        "data_sample = data #.sample(frac = 0.1,random_state = 123)\n",
        "np.random.seed(212)\n",
        "df_train, df_val, df_test = np.split(data_sample.sample(frac=1, random_state=42), \n",
        "                                     [int(.8*len(data_sample)), int(.9*len(data_sample))])\n",
        "print(\"train:\", len(df_train), \"val:\",len(df_val),\"test:\", len(df_test))"
      ],
      "metadata": {
        "colab": {
          "base_uri": "https://localhost:8080/"
        },
        "id": "nVMPN-OFYFqX",
        "outputId": "bf0305d4-228b-4ca3-d80e-f1424f4289e9"
      },
      "execution_count": 15,
      "outputs": [
        {
          "output_type": "stream",
          "name": "stdout",
          "text": [
            "train: 12707 val: 1588 test: 1589\n"
          ]
        }
      ]
    },
    {
      "cell_type": "code",
      "source": [
        "from torch.optim import AdamW\n",
        "from tqdm import tqdm\n",
        "from transformers.optimization import get_cosine_schedule_with_warmup\n",
        "\n",
        "\n",
        "def train(model, train_data, val_data, learning_rate, epochs):\n",
        "\n",
        "    train, val = EN_Dataset(train_data), EN_Dataset(val_data)\n",
        "\n",
        "    warmup_rate = 0.1\n",
        "    batch_size=14\n",
        "    num_total_steps = (len(df_train) // batch_size) * epochs\n",
        "    num_warmup_steps = num_total_steps * warmup_rate\n",
        "\n",
        "    train_dataloader = torch.utils.data.DataLoader(train, batch_size=batch_size, shuffle=True,num_workers=3)\n",
        "    val_dataloader = torch.utils.data.DataLoader(val, batch_size=batch_size)\n",
        "\n",
        "    use_cuda = torch.cuda.is_available()\n",
        "    device = torch.device(\"cuda\" if use_cuda else \"cpu\")\n",
        "    criterion = nn.CrossEntropyLoss()\n",
        "    optimizer = AdamW(model.parameters(), lr= learning_rate)\n",
        "    scheduler = get_cosine_schedule_with_warmup(optimizer, \n",
        "                                                         num_warmup_steps=num_warmup_steps, \n",
        "                                                         num_training_steps=num_total_steps)\n",
        "    if use_cuda:\n",
        "            print(\"using cuda!\")\n",
        "            model = model.cuda()\n",
        "            criterion = criterion.cuda()\n",
        "\n",
        "    for epoch_num in range(epochs):\n",
        "\n",
        "            total_acc_train = 0\n",
        "            total_loss_train = 0\n",
        "\n",
        "            for i, (train_input, train_label) in enumerate(tqdm(train_dataloader)) :\n",
        "\n",
        "                train_label = train_label.to(device)\n",
        "                mask = train_input['attention_mask'].to(device)\n",
        "                input_id = train_input['input_ids'].squeeze(1).to(device)\n",
        "\n",
        "                output = model(input_id, mask)\n",
        "                \n",
        "                batch_loss = criterion(output, train_label.long())\n",
        "                total_loss_train += batch_loss.item()\n",
        "                \n",
        "                acc = (output.argmax(dim=1) == train_label).sum().item()\n",
        "                total_acc_train += acc\n",
        "\n",
        "                model.zero_grad()\n",
        "                batch_loss.backward()\n",
        "                optimizer.step()\n",
        "                scheduler.step()\n",
        "            \n",
        "            total_acc_val = 0\n",
        "            total_loss_val = 0\n",
        "\n",
        "            with torch.no_grad():\n",
        "\n",
        "                for val_input, val_label in val_dataloader:\n",
        "\n",
        "                    val_label = val_label.to(device)\n",
        "                    mask = val_input['attention_mask'].to(device)\n",
        "                    input_id = val_input['input_ids'].squeeze(1).to(device)\n",
        "\n",
        "                    output = model(input_id, mask)\n",
        "\n",
        "                    batch_loss = criterion(output, val_label.long())\n",
        "                    total_loss_val += batch_loss.item()\n",
        "                    \n",
        "                    acc = (output.argmax(dim=1) == val_label).sum().item()\n",
        "                    total_acc_val += acc\n",
        "            \n",
        "            print(\n",
        "                f'Epochs: {epoch_num + 1} | Train Loss: {total_loss_train / len(train_data): .3f} \\\n",
        "                | Train Accuracy: {total_acc_train / len(train_data): .3f} \\\n",
        "                | Val Loss: {total_loss_val / len(val_data): .3f} \\\n",
        "                | Val Accuracy: {total_acc_val / len(val_data): .3f}') \n",
        "                  \n",
        "EPOCHS = 5\n",
        "model = BertClassifier()\n",
        "LR = 0.00001          \n",
        "train(model, df_train, df_val, LR, EPOCHS)"
      ],
      "metadata": {
        "colab": {
          "base_uri": "https://localhost:8080/"
        },
        "id": "OulSVWejWvsf",
        "outputId": "9a9e498e-957b-44b1-af85-83701e111f1f"
      },
      "execution_count": 16,
      "outputs": [
        {
          "output_type": "stream",
          "name": "stderr",
          "text": [
            "Some weights of the model checkpoint at bert-base-multilingual-cased were not used when initializing BertModel: ['cls.predictions.transform.LayerNorm.bias', 'cls.predictions.decoder.weight', 'cls.predictions.transform.LayerNorm.weight', 'cls.predictions.bias', 'cls.seq_relationship.bias', 'cls.predictions.transform.dense.weight', 'cls.predictions.transform.dense.bias', 'cls.seq_relationship.weight']\n",
            "- This IS expected if you are initializing BertModel from the checkpoint of a model trained on another task or with another architecture (e.g. initializing a BertForSequenceClassification model from a BertForPreTraining model).\n",
            "- This IS NOT expected if you are initializing BertModel from the checkpoint of a model that you expect to be exactly identical (initializing a BertForSequenceClassification model from a BertForSequenceClassification model).\n"
          ]
        },
        {
          "output_type": "stream",
          "name": "stdout",
          "text": [
            "using cuda!\n"
          ]
        },
        {
          "output_type": "stream",
          "name": "stderr",
          "text": [
            "100%|██████████| 908/908 [23:28<00:00,  1.55s/it]\n"
          ]
        },
        {
          "output_type": "stream",
          "name": "stdout",
          "text": [
            "Epochs: 1 | Train Loss:  0.127                 | Train Accuracy:  0.415                 | Val Loss:  0.079                 | Val Accuracy:  0.679\n"
          ]
        },
        {
          "output_type": "stream",
          "name": "stderr",
          "text": [
            "100%|██████████| 908/908 [23:35<00:00,  1.56s/it]\n"
          ]
        },
        {
          "output_type": "stream",
          "name": "stdout",
          "text": [
            "Epochs: 2 | Train Loss:  0.064                 | Train Accuracy:  0.746                 | Val Loss:  0.061                 | Val Accuracy:  0.757\n"
          ]
        },
        {
          "output_type": "stream",
          "name": "stderr",
          "text": [
            "100%|██████████| 908/908 [23:36<00:00,  1.56s/it]\n"
          ]
        },
        {
          "output_type": "stream",
          "name": "stdout",
          "text": [
            "Epochs: 3 | Train Loss:  0.040                 | Train Accuracy:  0.852                 | Val Loss:  0.059                 | Val Accuracy:  0.763\n"
          ]
        },
        {
          "output_type": "stream",
          "name": "stderr",
          "text": [
            "100%|██████████| 908/908 [23:36<00:00,  1.56s/it]\n"
          ]
        },
        {
          "output_type": "stream",
          "name": "stdout",
          "text": [
            "Epochs: 4 | Train Loss:  0.025                 | Train Accuracy:  0.918                 | Val Loss:  0.058                 | Val Accuracy:  0.764\n"
          ]
        },
        {
          "output_type": "stream",
          "name": "stderr",
          "text": [
            "100%|██████████| 908/908 [23:36<00:00,  1.56s/it]\n"
          ]
        },
        {
          "output_type": "stream",
          "name": "stdout",
          "text": [
            "Epochs: 5 | Train Loss:  0.019                 | Train Accuracy:  0.946                 | Val Loss:  0.059                 | Val Accuracy:  0.765\n"
          ]
        }
      ]
    },
    {
      "cell_type": "code",
      "source": [
        "def evaluate(model, test_data):\n",
        "\n",
        "    test = EN_Dataset(test_data)\n",
        "\n",
        "    test_dataloader = torch.utils.data.DataLoader(test, batch_size=2)\n",
        "\n",
        "    use_cuda = torch.cuda.is_available()\n",
        "    device = torch.device(\"cuda\" if use_cuda else \"cpu\")\n",
        "\n",
        "    if use_cuda:\n",
        "\n",
        "        model = model.cuda()\n",
        "\n",
        "    total_acc_test = 0\n",
        "    with torch.no_grad():\n",
        "\n",
        "        for test_input, test_label in test_dataloader:\n",
        "\n",
        "              test_label = test_label.to(device)\n",
        "              mask = test_input['attention_mask'].to(device)\n",
        "              input_id = test_input['input_ids'].squeeze(1).to(device)\n",
        "\n",
        "              output = model(input_id, mask)\n",
        "\n",
        "              acc = (output.argmax(dim=1) == test_label).sum().item()\n",
        "              total_acc_test += acc\n",
        "    \n",
        "    print(f'Test Accuracy: {total_acc_test / len(test_data): .3f}')\n",
        "    \n",
        "evaluate(model, df_test)"
      ],
      "metadata": {
        "colab": {
          "base_uri": "https://localhost:8080/"
        },
        "id": "8ERGDtwgSFN8",
        "outputId": "1546eae7-db14-4631-ab08-11c46410a873"
      },
      "execution_count": 17,
      "outputs": [
        {
          "output_type": "stream",
          "name": "stdout",
          "text": [
            "Test Accuracy:  0.770\n"
          ]
        }
      ]
    },
    {
      "cell_type": "code",
      "source": [
        "df_test.sample(frac=0.02,random_state=3) #"
      ],
      "metadata": {
        "id": "qXdQ8RQk5qaf",
        "colab": {
          "base_uri": "https://localhost:8080/",
          "height": 670
        },
        "outputId": "5cc33ff1-222b-44d9-feee-3e492dcae308"
      },
      "execution_count": null,
      "outputs": [
        {
          "output_type": "execute_result",
          "data": {
            "text/plain": [
              "                                                       제목  청구번호\n",
              "119599  The economics of competitive enterprise : sele...     3\n",
              "402519        Themes in modern European history 1890-1945    10\n",
              "59007                                Indische geisteswelt     2\n",
              "121554  Myanmar (Burma) since 1962 : the failure of de...     3\n",
              "117384  Harpers Ferry armory and the new technology :t...     3\n",
              "...                                                   ...   ...\n",
              "305505             Off balance : the real world of ballet     8\n",
              "394256                    Regional geography of the world    10\n",
              "11584         Inside secrets visual C++ 5.0 tips & tricks     0\n",
              "434150                            Solar energy dictionary     6\n",
              "189290                 Wave propagation in the ionosphere     5\n",
              "\n",
              "[176 rows x 2 columns]"
            ],
            "text/html": [
              "\n",
              "  <div id=\"df-6ebdc889-aa73-4523-81cf-88e49864f930\">\n",
              "    <div class=\"colab-df-container\">\n",
              "      <div>\n",
              "<style scoped>\n",
              "    .dataframe tbody tr th:only-of-type {\n",
              "        vertical-align: middle;\n",
              "    }\n",
              "\n",
              "    .dataframe tbody tr th {\n",
              "        vertical-align: top;\n",
              "    }\n",
              "\n",
              "    .dataframe thead th {\n",
              "        text-align: right;\n",
              "    }\n",
              "</style>\n",
              "<table border=\"1\" class=\"dataframe\">\n",
              "  <thead>\n",
              "    <tr style=\"text-align: right;\">\n",
              "      <th></th>\n",
              "      <th>제목</th>\n",
              "      <th>청구번호</th>\n",
              "    </tr>\n",
              "  </thead>\n",
              "  <tbody>\n",
              "    <tr>\n",
              "      <th>119599</th>\n",
              "      <td>The economics of competitive enterprise : sele...</td>\n",
              "      <td>3</td>\n",
              "    </tr>\n",
              "    <tr>\n",
              "      <th>402519</th>\n",
              "      <td>Themes in modern European history 1890-1945</td>\n",
              "      <td>10</td>\n",
              "    </tr>\n",
              "    <tr>\n",
              "      <th>59007</th>\n",
              "      <td>Indische geisteswelt</td>\n",
              "      <td>2</td>\n",
              "    </tr>\n",
              "    <tr>\n",
              "      <th>121554</th>\n",
              "      <td>Myanmar (Burma) since 1962 : the failure of de...</td>\n",
              "      <td>3</td>\n",
              "    </tr>\n",
              "    <tr>\n",
              "      <th>117384</th>\n",
              "      <td>Harpers Ferry armory and the new technology :t...</td>\n",
              "      <td>3</td>\n",
              "    </tr>\n",
              "    <tr>\n",
              "      <th>...</th>\n",
              "      <td>...</td>\n",
              "      <td>...</td>\n",
              "    </tr>\n",
              "    <tr>\n",
              "      <th>305505</th>\n",
              "      <td>Off balance : the real world of ballet</td>\n",
              "      <td>8</td>\n",
              "    </tr>\n",
              "    <tr>\n",
              "      <th>394256</th>\n",
              "      <td>Regional geography of the world</td>\n",
              "      <td>10</td>\n",
              "    </tr>\n",
              "    <tr>\n",
              "      <th>11584</th>\n",
              "      <td>Inside secrets visual C++ 5.0 tips &amp; tricks</td>\n",
              "      <td>0</td>\n",
              "    </tr>\n",
              "    <tr>\n",
              "      <th>434150</th>\n",
              "      <td>Solar energy dictionary</td>\n",
              "      <td>6</td>\n",
              "    </tr>\n",
              "    <tr>\n",
              "      <th>189290</th>\n",
              "      <td>Wave propagation in the ionosphere</td>\n",
              "      <td>5</td>\n",
              "    </tr>\n",
              "  </tbody>\n",
              "</table>\n",
              "<p>176 rows × 2 columns</p>\n",
              "</div>\n",
              "      <button class=\"colab-df-convert\" onclick=\"convertToInteractive('df-6ebdc889-aa73-4523-81cf-88e49864f930')\"\n",
              "              title=\"Convert this dataframe to an interactive table.\"\n",
              "              style=\"display:none;\">\n",
              "        \n",
              "  <svg xmlns=\"http://www.w3.org/2000/svg\" height=\"24px\"viewBox=\"0 0 24 24\"\n",
              "       width=\"24px\">\n",
              "    <path d=\"M0 0h24v24H0V0z\" fill=\"none\"/>\n",
              "    <path d=\"M18.56 5.44l.94 2.06.94-2.06 2.06-.94-2.06-.94-.94-2.06-.94 2.06-2.06.94zm-11 1L8.5 8.5l.94-2.06 2.06-.94-2.06-.94L8.5 2.5l-.94 2.06-2.06.94zm10 10l.94 2.06.94-2.06 2.06-.94-2.06-.94-.94-2.06-.94 2.06-2.06.94z\"/><path d=\"M17.41 7.96l-1.37-1.37c-.4-.4-.92-.59-1.43-.59-.52 0-1.04.2-1.43.59L10.3 9.45l-7.72 7.72c-.78.78-.78 2.05 0 2.83L4 21.41c.39.39.9.59 1.41.59.51 0 1.02-.2 1.41-.59l7.78-7.78 2.81-2.81c.8-.78.8-2.07 0-2.86zM5.41 20L4 18.59l7.72-7.72 1.47 1.35L5.41 20z\"/>\n",
              "  </svg>\n",
              "      </button>\n",
              "      \n",
              "  <style>\n",
              "    .colab-df-container {\n",
              "      display:flex;\n",
              "      flex-wrap:wrap;\n",
              "      gap: 12px;\n",
              "    }\n",
              "\n",
              "    .colab-df-convert {\n",
              "      background-color: #E8F0FE;\n",
              "      border: none;\n",
              "      border-radius: 50%;\n",
              "      cursor: pointer;\n",
              "      display: none;\n",
              "      fill: #1967D2;\n",
              "      height: 32px;\n",
              "      padding: 0 0 0 0;\n",
              "      width: 32px;\n",
              "    }\n",
              "\n",
              "    .colab-df-convert:hover {\n",
              "      background-color: #E2EBFA;\n",
              "      box-shadow: 0px 1px 2px rgba(60, 64, 67, 0.3), 0px 1px 3px 1px rgba(60, 64, 67, 0.15);\n",
              "      fill: #174EA6;\n",
              "    }\n",
              "\n",
              "    [theme=dark] .colab-df-convert {\n",
              "      background-color: #3B4455;\n",
              "      fill: #D2E3FC;\n",
              "    }\n",
              "\n",
              "    [theme=dark] .colab-df-convert:hover {\n",
              "      background-color: #434B5C;\n",
              "      box-shadow: 0px 1px 3px 1px rgba(0, 0, 0, 0.15);\n",
              "      filter: drop-shadow(0px 1px 2px rgba(0, 0, 0, 0.3));\n",
              "      fill: #FFFFFF;\n",
              "    }\n",
              "  </style>\n",
              "\n",
              "      <script>\n",
              "        const buttonEl =\n",
              "          document.querySelector('#df-6ebdc889-aa73-4523-81cf-88e49864f930 button.colab-df-convert');\n",
              "        buttonEl.style.display =\n",
              "          google.colab.kernel.accessAllowed ? 'block' : 'none';\n",
              "\n",
              "        async function convertToInteractive(key) {\n",
              "          const element = document.querySelector('#df-6ebdc889-aa73-4523-81cf-88e49864f930');\n",
              "          const dataTable =\n",
              "            await google.colab.kernel.invokeFunction('convertToInteractive',\n",
              "                                                     [key], {});\n",
              "          if (!dataTable) return;\n",
              "\n",
              "          const docLinkHtml = 'Like what you see? Visit the ' +\n",
              "            '<a target=\"_blank\" href=https://colab.research.google.com/notebooks/data_table.ipynb>data table notebook</a>'\n",
              "            + ' to learn more about interactive tables.';\n",
              "          element.innerHTML = '';\n",
              "          dataTable['output_type'] = 'display_data';\n",
              "          await google.colab.output.renderOutput(dataTable, element);\n",
              "          const docLink = document.createElement('div');\n",
              "          docLink.innerHTML = docLinkHtml;\n",
              "          element.appendChild(docLink);\n",
              "        }\n",
              "      </script>\n",
              "    </div>\n",
              "  </div>\n",
              "  "
            ]
          },
          "metadata": {},
          "execution_count": 18
        }
      ]
    },
    {
      "cell_type": "code",
      "source": [
        "def get_top_values(model, text):\n",
        "  use_cuda = torch.cuda.is_available()\n",
        "  device = torch.device(\"cuda\" if use_cuda else \"cpu\")\n",
        "  if use_cuda:\n",
        "      model = model.cuda()\n",
        "  with torch.no_grad():\n",
        "    dic = en_tokenizer(text, padding='max_length', max_length = 256, truncation=True, return_tensors=\"pt\")\n",
        "    input_id = dic['input_ids']\n",
        "    input_id = input_id.to(device)\n",
        "    mask = dic['attention_mask']\n",
        "    mask = mask.to(device)\n",
        "    output = model(input_id, mask)\n",
        "    output = F.softmax(output[0],dim=-1)\n",
        "    print(\"max: \",torch.topk(output,3))\n",
        "get_top_values(model, \"history\") # 확인해보고 싶은 제목 입력\n",
        "labels"
      ],
      "metadata": {
        "id": "431pqwfftiGc",
        "colab": {
          "base_uri": "https://localhost:8080/"
        },
        "outputId": "12723dee-6b59-4bff-afc1-b2793640ce30"
      },
      "execution_count": null,
      "outputs": [
        {
          "output_type": "stream",
          "name": "stdout",
          "text": [
            "max:  torch.return_types.topk(\n",
            "values=tensor([0.9592, 0.0095, 0.0089], device='cuda:0'),\n",
            "indices=tensor([10,  9,  8], device='cuda:0'))\n"
          ]
        },
        {
          "output_type": "execute_result",
          "data": {
            "text/plain": [
              "{'0': '총류',\n",
              " '1': '철학',\n",
              " '2': '종교',\n",
              " '3': '사회학',\n",
              " '4': '언어',\n",
              " '5': '자연과학',\n",
              " '6': '기술과학',\n",
              " '7': '경영학',\n",
              " '8': '예술',\n",
              " '9': '문학',\n",
              " '10': '역사'}"
            ]
          },
          "metadata": {},
          "execution_count": 25
        }
      ]
    },
    {
      "cell_type": "markdown",
      "source": [
        "### 참고용"
      ],
      "metadata": {
        "id": "wYmV4BA9TFjf"
      }
    },
    {
      "cell_type": "code",
      "source": [
        "def save_checkpoint(save_path, model, valid_loss):# ------ 모델 평가를 위해 훈련 과정을 저장\n",
        "    if save_path == None:\n",
        "        return\n",
        "    state_dict = {'model_state_dict': model.state_dict(), 'valid_loss': valid_loss}\n",
        "    torch.save(state_dict, save_path)\n",
        "    print(f'Model saved to ==> {save_path}')\n",
        "\n",
        "def load_checkpoint(load_path, model):# ------ save_checkpoint 함수에서 저장된 모델을 가져오기.\n",
        "    if load_path == None:\n",
        "        return\n",
        "    state_dict = torch.load(load_path, map_location=device)\n",
        "    print(f'Model loaded from <== {load_path}')\n",
        "    model.load_state_dict(state_dict['model_state_dict'])\n",
        "    return state_dict['valid_loss']"
      ],
      "metadata": {
        "id": "dMOA2RLrTH98"
      },
      "execution_count": 18,
      "outputs": []
    },
    {
      "cell_type": "code",
      "source": [
        "save_checkpoint(\"/content/gdrive/MyDrive/Learned/indexmodel1.multiLangModel\", model, 1)"
      ],
      "metadata": {
        "colab": {
          "base_uri": "https://localhost:8080/"
        },
        "id": "fo7-6iM0v6Iz",
        "outputId": "24dde6d5-79c4-4d94-95d5-ceec5bbe0591"
      },
      "execution_count": 19,
      "outputs": [
        {
          "output_type": "stream",
          "name": "stdout",
          "text": [
            "Model saved to ==> /content/gdrive/MyDrive/Learned/indexmodel1.multiLangModel\n"
          ]
        }
      ]
    },
    {
      "cell_type": "code",
      "source": [
        "device =torch.device(\"cuda\")\n",
        "load_checkpoint(\"/content/gdrive/MyDrive/Learned/0.1_loss1e-6_epoch5.multiLangModel\",model)\n"
      ],
      "metadata": {
        "colab": {
          "base_uri": "https://localhost:8080/"
        },
        "id": "caD0GLFf5qFW",
        "outputId": "d3c03f60-6237-440e-e95f-6c7a9d5aaeab"
      },
      "execution_count": null,
      "outputs": [
        {
          "output_type": "stream",
          "name": "stdout",
          "text": [
            "Model loaded from <== /content/gdrive/MyDrive/Learned/0.1_loss1e-6_epoch5.multiLangModel\n"
          ]
        },
        {
          "output_type": "execute_result",
          "data": {
            "text/plain": [
              "0.201"
            ]
          },
          "metadata": {},
          "execution_count": 41
        }
      ]
    },
    {
      "cell_type": "code",
      "source": [
        "class MyModelA(nn.Module):  # 이후 합칠때 참고용\n",
        "    def __init__(self):\n",
        "        super(MyModelA, self).__init__()\n",
        "        self.fc1 = nn.Linear(10, 2)\n",
        "        \n",
        "    def forward(self, x):\n",
        "        x = self.fc1(x)\n",
        "        return x\n",
        "    \n",
        "\n",
        "class MyModelB(nn.Module):\n",
        "    def __init__(self):\n",
        "        super(MyModelB, self).__init__()\n",
        "        self.fc1 = nn.Linear(20, 2)\n",
        "        \n",
        "    def forward(self, x):\n",
        "        x = self.fc1(x)\n",
        "        return x\n",
        "\n",
        "\n",
        "class MyEnsemble(nn.Module):\n",
        "    def __init__(self, modelA, modelB):\n",
        "        super(MyEnsemble, self).__init__()\n",
        "        self.modelA = modelA\n",
        "        self.modelB = modelB\n",
        "        self.classifier = nn.Linear(4, 2)\n",
        "        \n",
        "    def forward(self, x1, x2):\n",
        "        x1 = self.modelA(x1)\n",
        "        x2 = self.modelB(x2)\n",
        "        x = torch.cat((x1, x2), dim=1)\n",
        "        x = self.classifier(F.relu(x))\n",
        "        return x\n",
        "\n",
        "# Create models and load state_dicts    \n",
        "modelA = MyModelA()\n",
        "modelB = MyModelB()\n",
        "# Load state dicts\n",
        "modelA.load_state_dict(torch.load(PATH))\n",
        "modelB.load_state_dict(torch.load(PATH))\n",
        "\n",
        "model = MyEnsemble(modelA, modelB)\n",
        "x1, x2 = torch.randn(1, 10), torch.randn(1, 20)\n",
        "output = model(x1, x2)"
      ],
      "metadata": {
        "id": "jGUN9TwMt1im"
      },
      "execution_count": null,
      "outputs": []
    }
  ]
}