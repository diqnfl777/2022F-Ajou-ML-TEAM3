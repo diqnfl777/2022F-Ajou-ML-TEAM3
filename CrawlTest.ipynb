{
  "cells": [
    {
      "cell_type": "markdown",
      "metadata": {
        "id": "view-in-github",
        "colab_type": "text"
      },
      "source": [
        "<a href=\"https://colab.research.google.com/github/diqnfl777/2022F-Ajou-ML-TEAM3/blob/main/CrawlTest.ipynb\" target=\"_parent\"><img src=\"https://colab.research.google.com/assets/colab-badge.svg\" alt=\"Open In Colab\"/></a>"
      ]
    },
    {
      "cell_type": "code",
      "execution_count": null,
      "metadata": {
        "id": "UqriFOA8hnvl"
      },
      "outputs": [],
      "source": [
        "import requests\n",
        "\n",
        "cookies = {\n",
        "    'JSESSIONID': 'E41133919B0B2AA40FA1AEA15743A96A.pyxis-api1',\n",
        "    'apt.uid': 'AP-PQQY5YJEHTTA-2-1645597751454-98837791.0.2.76c966dc-315c-45f5-9b34-1bd88670682a',\n",
        "    '_ga': 'GA1.3.1573260349.1630468655',\n",
        "    '_ga_B05H7FL8XH': 'GS1.1.1665378882.8.0.1665379021.0.0.0',\n",
        "    '_ga_1WWMRKJP34': 'GS1.1.1665378882.8.1.1665379021.0.0.0',\n",
        "    '_gid': 'GA1.3.17273452.1667387539',\n",
        "    'JSESSIONID': 'j4uDYzoUVCSuGyRSYxn051m77D7apDyNb5CAXkJEvHGDP9zxbXdVhS3AsDWbMoLV.yonam_servlet_IPSI01',\n",
        "    'apt.sid': 'AP-PQQY5YJEHTTA-2-1667460835868-82871188',\n",
        "    'NG_TRANSLATE_LANG_KEY': '%22ko%22',\n",
        "    'PYXIS2_UUID': '%22863475d1-b6f4-4154-8753-cca9c6c398c1%22',\n",
        "    '_gat': '1',\n",
        "}\n",
        "\n",
        "headers = {\n",
        "    'Accept': 'application/json, text/plain, */*',\n",
        "    'Accept-Language': 'ko',\n",
        "    'Connection': 'keep-alive',\n",
        "    # Requests sorts cookies= alphabetically\n",
        "    # 'Cookie': 'JSESSIONID=E41133919B0B2AA40FA1AEA15743A96A.pyxis-api1; apt.uid=AP-PQQY5YJEHTTA-2-1645597751454-98837791.0.2.76c966dc-315c-45f5-9b34-1bd88670682a; _ga=GA1.3.1573260349.1630468655; _ga_B05H7FL8XH=GS1.1.1665378882.8.0.1665379021.0.0.0; _ga_1WWMRKJP34=GS1.1.1665378882.8.1.1665379021.0.0.0; _gid=GA1.3.17273452.1667387539; JSESSIONID=j4uDYzoUVCSuGyRSYxn051m77D7apDyNb5CAXkJEvHGDP9zxbXdVhS3AsDWbMoLV.yonam_servlet_IPSI01; apt.sid=AP-PQQY5YJEHTTA-2-1667460835868-82871188; NG_TRANSLATE_LANG_KEY=%22ko%22; PYXIS2_UUID=%22863475d1-b6f4-4154-8753-cca9c6c398c1%22; _gat=1',\n",
        "    'Referer': 'https://library.ajou.ac.kr/',\n",
        "    'Sec-Fetch-Dest': 'empty',\n",
        "    'Sec-Fetch-Mode': 'cors',\n",
        "    'Sec-Fetch-Site': 'same-origin',\n",
        "    'User-Agent': 'Mozilla/5.0 (Windows NT 10.0; Win64; x64) AppleWebKit/537.36 (KHTML, like Gecko) Chrome/106.0.0.0 Safari/537.36',\n",
        "    'sec-ch-ua': '\"Chromium\";v=\"106\", \"Google Chrome\";v=\"106\", \"Not;A=Brand\";v=\"99\"',\n",
        "    'sec-ch-ua-mobile': '?0',\n",
        "    'sec-ch-ua-platform': '\"Windows\"',\n",
        "}\n",
        "\n",
        "params = {\n",
        "    'branch': '1',\n",
        "    'material_type': '1',\n",
        "    'max': '100',\n",
        "    'offset': 0,\n",
        "}\n",
        "\n",
        "response = requests.get('https://library.ajou.ac.kr/pyxis-api/1/collections/1/search', params=params, cookies=cookies, headers=headers)\n",
        "response.json()"
      ]
    },
    {
      "cell_type": "code",
      "execution_count": null,
      "metadata": {
        "colab": {
          "base_uri": "https://localhost:8080/"
        },
        "id": "B03jF4OJoMTG",
        "outputId": "47c99cf7-0caa-42b0-e528-925c0f4ec98a"
      },
      "outputs": [
        {
          "output_type": "stream",
          "name": "stdout",
          "text": [
            "音樂大事典\n",
            "전설의 시대\n",
            "人事政新論\n",
            "朝鮮上古史\n",
            "第3共和國 그때 그사람들\n",
            "폐수처리공학\n",
            "보호무역주의\n",
            "經營學大辭典  : 最新\n",
            "崔仁勳\n",
            "원문 불어문법\n",
            "토폴로지入門\n",
            "집으로 가는 길\n",
            "魯迅小說選\n",
            "적과 흑 - 스탕달 저\n",
            "Netware troubleshooting\n",
            "새로운 러시아 사람들\n",
            "교육대학의 발전모형과 평가체제 개발에 관한 연구\n",
            "정신분열증 소녀의 수기\n",
            "Contemporary landscapes in the world\n",
            "太極道主 趙鼎山 傳記\n",
            "高麗時代史\n",
            "對中國 投資戰略과 實務\n",
            "무엇을 기도할까?\n",
            "National Geographic Video : 기적의 기계들 : 20세기 기계문명의 총아\n",
            "내일로 흐르는 민족의 젖줄 한강\n",
            "中國の茶書\n",
            "クボタ 住宅建材綜合カタログ\n",
            "ガウディの作品 - 藝術と建築\n"
          ]
        }
      ],
      "source": [
        "import json\n",
        "import csv\n",
        "\n",
        "header = ['제목','저자', '청구기호']\n",
        "i = 401400\n",
        "with open('librarydata401400~.csv', 'w', encoding='UTF8', newline='') as f:\n",
        "  writer = csv.writer(f)\n",
        "  writer.writerow(header)\n",
        "  while i < 456990: #456990\n",
        "    params['offset'] = i\n",
        "    i+=100\n",
        "    response = requests.get('https://library.ajou.ac.kr/pyxis-api/1/collections/1/search', params=params, cookies=cookies, headers=headers)\n",
        "    data = response.json()\n",
        "    new_dict = data['data']\n",
        "    for j in new_dict['list']:\n",
        "      try:\n",
        "        branch_dict = j['branchVolumes'][0]\n",
        "      except IndexError:\n",
        "        writer.writerow(j['titleStatement'])\n",
        "        print(j['titleStatement']) #청구기호 조회 안된건 제목만 csv에 넣고 제목만 참고용으로 출력\n",
        "        continue\n",
        "      writer.writerow([j['titleStatement'], j['author'],j['publication'], branch_dict['volume']])\n",
        "      #이후 https://library.ajou.ac.kr/pyxis-api/mashup-aladin/ * ISBN  * /toc 을 통해 목차까지 같이 조회해서 하는거 진행해야함\n"
      ]
    }
  ],
  "metadata": {
    "colab": {
      "collapsed_sections": [],
      "provenance": [],
      "authorship_tag": "ABX9TyM0/B9tB65sh93R3UZLsbqT",
      "include_colab_link": true
    },
    "kernelspec": {
      "display_name": "Python 3",
      "name": "python3"
    },
    "language_info": {
      "name": "python"
    }
  },
  "nbformat": 4,
  "nbformat_minor": 0
}