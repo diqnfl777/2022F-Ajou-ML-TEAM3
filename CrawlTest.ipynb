{
  "nbformat": 4,
  "nbformat_minor": 0,
  "metadata": {
    "colab": {
      "provenance": [],
      "collapsed_sections": [],
      "authorship_tag": "ABX9TyNKC5+2yU50WEfSR60+F5HA",
      "include_colab_link": true
    },
    "kernelspec": {
      "name": "python3",
      "display_name": "Python 3"
    },
    "language_info": {
      "name": "python"
    }
  },
  "cells": [
    {
      "cell_type": "markdown",
      "metadata": {
        "id": "view-in-github",
        "colab_type": "text"
      },
      "source": [
        "<a href=\"https://colab.research.google.com/github/diqnfl777/2022F-Ajou-ML-TEAM3/blob/main/CrawlTest.ipynb\" target=\"_parent\"><img src=\"https://colab.research.google.com/assets/colab-badge.svg\" alt=\"Open In Colab\"/></a>"
      ]
    },
    {
      "cell_type": "code",
      "execution_count": 2,
      "metadata": {
        "id": "HyKS_ELhda8V"
      },
      "outputs": [],
      "source": [
        "  import requests\n",
        "from bs4 import BeautifulSoup"
      ]
    },
    {
      "cell_type": "code",
      "source": [
        "url = 'https://library.ajou.ac.kr/#/search/ex?branch=1&material-type=1&max=100&offset=100'\n",
        "r = requests.get(url)\n",
        "s = BeautifulSoup(r.text,\"html.parser\")\n",
        "print(s.text)"
      ],
      "metadata": {
        "colab": {
          "base_uri": "https://localhost:8080/"
        },
        "id": "R_82qgD5d55S",
        "outputId": "5b63029d-8204-4782-c187-cedcf04e6997"
      },
      "execution_count": 3,
      "outputs": [
        {
          "output_type": "stream",
          "name": "stdout",
          "text": [
            "\n",
            "\n",
            "\n",
            "\n",
            "\n",
            "\n",
            "아주대학교 중앙도서관\n",
            "\n",
            "\n",
            "\n",
            " \n",
            "\n",
            "\n",
            "\n",
            "\n",
            "\n",
            "\n",
            "\n",
            "\n",
            "        (function(i,s,o,g,r,a,m){i['GoogleAnalyticsObject']=r;i[r]=i[r]||function(){\n",
            "        (i[r].q=i[r].q||[]).push(arguments)},i[r].l=1*new Date();a=s.createElement(o),\n",
            "        m=s.getElementsByTagName(o)[0];a.async=1;a.src=g;m.parentNode.insertBefore(a,m)\n",
            "        })(window,document,'script','https://www.google-analytics.com/analytics.js','ga');\n",
            "\n",
            "         ga('create', 'UA-158741668-1', 'auto');\n",
            "        // ga('send', 'pageview');\n",
            "\n",
            "\n",
            "\n",
            "\n"
          ]
        }
      ]
    },
    {
      "cell_type": "code",
      "source": [
        "import requests\n",
        "\n",
        "cookies = {\n",
        "    'JSESSIONID': 'E41133919B0B2AA40FA1AEA15743A96A.pyxis-api1',\n",
        "    'apt.uid': 'AP-PQQY5YJEHTTA-2-1645597751454-98837791.0.2.76c966dc-315c-45f5-9b34-1bd88670682a',\n",
        "    '_ga': 'GA1.3.1573260349.1630468655',\n",
        "    '_ga_B05H7FL8XH': 'GS1.1.1665378882.8.0.1665379021.0.0.0',\n",
        "    '_ga_1WWMRKJP34': 'GS1.1.1665378882.8.1.1665379021.0.0.0',\n",
        "    '_gid': 'GA1.3.17273452.1667387539',\n",
        "    'JSESSIONID': 'j4uDYzoUVCSuGyRSYxn051m77D7apDyNb5CAXkJEvHGDP9zxbXdVhS3AsDWbMoLV.yonam_servlet_IPSI01',\n",
        "    'apt.sid': 'AP-PQQY5YJEHTTA-2-1667460835868-82871188',\n",
        "    'NG_TRANSLATE_LANG_KEY': '%22ko%22',\n",
        "    'PYXIS2_UUID': '%22863475d1-b6f4-4154-8753-cca9c6c398c1%22',\n",
        "    '_gat': '1',\n",
        "}\n",
        "\n",
        "headers = {\n",
        "    'Accept': 'application/json, text/plain, */*',\n",
        "    'Accept-Language': 'ko',\n",
        "    'Connection': 'keep-alive',\n",
        "    # Requests sorts cookies= alphabetically\n",
        "    # 'Cookie': 'JSESSIONID=E41133919B0B2AA40FA1AEA15743A96A.pyxis-api1; apt.uid=AP-PQQY5YJEHTTA-2-1645597751454-98837791.0.2.76c966dc-315c-45f5-9b34-1bd88670682a; _ga=GA1.3.1573260349.1630468655; _ga_B05H7FL8XH=GS1.1.1665378882.8.0.1665379021.0.0.0; _ga_1WWMRKJP34=GS1.1.1665378882.8.1.1665379021.0.0.0; _gid=GA1.3.17273452.1667387539; JSESSIONID=j4uDYzoUVCSuGyRSYxn051m77D7apDyNb5CAXkJEvHGDP9zxbXdVhS3AsDWbMoLV.yonam_servlet_IPSI01; apt.sid=AP-PQQY5YJEHTTA-2-1667460835868-82871188; NG_TRANSLATE_LANG_KEY=%22ko%22; PYXIS2_UUID=%22863475d1-b6f4-4154-8753-cca9c6c398c1%22; _gat=1',\n",
        "    'Referer': 'https://library.ajou.ac.kr/',\n",
        "    'Sec-Fetch-Dest': 'empty',\n",
        "    'Sec-Fetch-Mode': 'cors',\n",
        "    'Sec-Fetch-Site': 'same-origin',\n",
        "    'User-Agent': 'Mozilla/5.0 (Windows NT 10.0; Win64; x64) AppleWebKit/537.36 (KHTML, like Gecko) Chrome/106.0.0.0 Safari/537.36',\n",
        "    'sec-ch-ua': '\"Chromium\";v=\"106\", \"Google Chrome\";v=\"106\", \"Not;A=Brand\";v=\"99\"',\n",
        "    'sec-ch-ua-mobile': '?0',\n",
        "    'sec-ch-ua-platform': '\"Windows\"',\n",
        "}\n",
        "\n",
        "params = {\n",
        "    'branch': '1',\n",
        "    'material_type': '1',\n",
        "    'max': '100',\n",
        "    'offset': '200',\n",
        "}\n",
        "\n",
        "response = requests.get('https://library.ajou.ac.kr/pyxis-api/1/collections/1/search', params=params, cookies=cookies, headers=headers)\n",
        "html = response.text"
      ],
      "metadata": {
        "id": "UqriFOA8hnvl"
      },
      "execution_count": 8,
      "outputs": []
    },
    {
      "cell_type": "code",
      "source": [
        "import json\n",
        "import csv\n",
        "\n",
        "header = ['제목', '청구기호']\n",
        "data = response.json()\n",
        "new_dict = data['data']\n",
        "with open('librarydata2.csv', 'w', encoding='UTF8', newline='') as f:\n",
        "  writer = csv.writer(f)\n",
        "  writer.writerow(header)\n",
        "  for i in new_dict['list']:\n",
        "    branch_dict = i['branchVolumes'][0]\n",
        "    writer.writerow([i['titleStatement'] , branch_dict['volume']])\n"
      ],
      "metadata": {
        "id": "B03jF4OJoMTG"
      },
      "execution_count": 10,
      "outputs": []
    }
  ]
}