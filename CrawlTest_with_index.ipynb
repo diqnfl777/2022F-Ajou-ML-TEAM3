{
  "cells": [
    {
      "cell_type": "markdown",
      "metadata": {
        "id": "view-in-github",
        "colab_type": "text"
      },
      "source": [
        "<a href=\"https://colab.research.google.com/github/diqnfl777/2022F-Ajou-ML-TEAM3/blob/main/CrawlTest_with_index.ipynb\" target=\"_parent\"><img src=\"https://colab.research.google.com/assets/colab-badge.svg\" alt=\"Open In Colab\"/></a>"
      ]
    },
    {
      "cell_type": "code",
      "execution_count": 27,
      "metadata": {
        "id": "UqriFOA8hnvl"
      },
      "outputs": [],
      "source": [
        "import requests\n",
        "\n",
        "cookies = {\n",
        "    'JSESSIONID': 'E41133919B0B2AA40FA1AEA15743A96A.pyxis-api1',\n",
        "    'apt.uid': 'AP-PQQY5YJEHTTA-2-1645597751454-98837791.0.2.76c966dc-315c-45f5-9b34-1bd88670682a',\n",
        "    '_ga': 'GA1.3.1573260349.1630468655',\n",
        "    '_ga_B05H7FL8XH': 'GS1.1.1665378882.8.0.1665379021.0.0.0',\n",
        "    '_ga_1WWMRKJP34': 'GS1.1.1665378882.8.1.1665379021.0.0.0',\n",
        "    '_gid': 'GA1.3.17273452.1667387539',\n",
        "    'JSESSIONID': 'j4uDYzoUVCSuGyRSYxn051m77D7apDyNb5CAXkJEvHGDP9zxbXdVhS3AsDWbMoLV.yonam_servlet_IPSI01',\n",
        "    'apt.sid': 'AP-PQQY5YJEHTTA-2-1667460835868-82871188',\n",
        "    'NG_TRANSLATE_LANG_KEY': '%22ko%22',\n",
        "    'PYXIS2_UUID': '%22863475d1-b6f4-4154-8753-cca9c6c398c1%22',\n",
        "    '_gat': '1',\n",
        "}\n",
        "\n",
        "headers = {\n",
        "    'Accept': 'application/json, text/plain, */*',\n",
        "    'Accept-Language': 'ko',\n",
        "    'Connection': 'keep-alive',\n",
        "    # Requests sorts cookies= alphabetically\n",
        "    # 'Cookie': 'JSESSIONID=E41133919B0B2AA40FA1AEA15743A96A.pyxis-api1; apt.uid=AP-PQQY5YJEHTTA-2-1645597751454-98837791.0.2.76c966dc-315c-45f5-9b34-1bd88670682a; _ga=GA1.3.1573260349.1630468655; _ga_B05H7FL8XH=GS1.1.1665378882.8.0.1665379021.0.0.0; _ga_1WWMRKJP34=GS1.1.1665378882.8.1.1665379021.0.0.0; _gid=GA1.3.17273452.1667387539; JSESSIONID=j4uDYzoUVCSuGyRSYxn051m77D7apDyNb5CAXkJEvHGDP9zxbXdVhS3AsDWbMoLV.yonam_servlet_IPSI01; apt.sid=AP-PQQY5YJEHTTA-2-1667460835868-82871188; NG_TRANSLATE_LANG_KEY=%22ko%22; PYXIS2_UUID=%22863475d1-b6f4-4154-8753-cca9c6c398c1%22; _gat=1',\n",
        "    'Referer': 'https://library.ajou.ac.kr/',\n",
        "    'Sec-Fetch-Dest': 'empty',\n",
        "    'Sec-Fetch-Mode': 'cors',\n",
        "    'Sec-Fetch-Site': 'same-origin',\n",
        "    'User-Agent': 'Mozilla/5.0 (Windows NT 10.0; Win64; x64) AppleWebKit/537.36 (KHTML, like Gecko) Chrome/106.0.0.0 Safari/537.36',\n",
        "    'sec-ch-ua': '\"Chromium\";v=\"106\", \"Google Chrome\";v=\"106\", \"Not;A=Brand\";v=\"99\"',\n",
        "    'sec-ch-ua-mobile': '?0',\n",
        "    'sec-ch-ua-platform': '\"Windows\"',\n",
        "}\n",
        "\n",
        "params = {\n",
        "    'branch': '1',\n",
        "    'material_type': '1',\n",
        "    'max': '100',\n",
        "    'offset': 0,\n",
        "}\n",
        "\n",
        "response = requests.get('https://library.ajou.ac.kr/pyxis-api/1/collections/1/search', params=params, cookies=cookies, headers=headers)"
      ]
    },
    {
      "cell_type": "code",
      "source": [
        "import re\n",
        "isbn = '9780128115138'\n",
        "isbn.split('.')[0]\n",
        "response = requests.get('https://library.ajou.ac.kr/pyxis-api/mashup-aladin/'+ isbn + '/toc')\n",
        "data = response.json()\n",
        "if(data['code'] == 'success.retrieved'):\n",
        "  index_text = data['data']\n",
        "  index_text = re.sub(\"[\\<].*?[\\>]\", \"\", index_text)\n",
        "  print(index_text)"
      ],
      "metadata": {
        "id": "93u2wyhv87ms",
        "colab": {
          "base_uri": "https://localhost:8080/"
        },
        "outputId": "415d4d57-095a-4c09-b4f5-58c79b624f3a"
      },
      "execution_count": 28,
      "outputs": [
        {
          "output_type": "stream",
          "name": "stdout",
          "text": [
            "1. Evolution?and Trends?of Demand?for the Various Sectors?of Transport 2. Methods of modeling transport demand 3. Qualitative methods (Executive Judgment, Delphi, Scenario Writing, Questionnaire (market) Survey) 4. Statistical Methods (Trend projection, Time series, Panel data) 5. Deterministic (Causal) Methods (Econometric, Gravity) 6. Artificial (Neural) and Fuzzy Methods 7. Choice of the appropriate method\n"
          ]
        }
      ]
    },
    {
      "cell_type": "code",
      "source": [
        "from google.colab import drive\n",
        "drive.mount('/content/gdrive')"
      ],
      "metadata": {
        "colab": {
          "base_uri": "https://localhost:8080/"
        },
        "id": "0Ci5-Bh7Jj88",
        "outputId": "69e07fd5-b536-4ef8-98b9-364de8c5e773"
      },
      "execution_count": 29,
      "outputs": [
        {
          "output_type": "stream",
          "name": "stdout",
          "text": [
            "Mounted at /content/gdrive\n"
          ]
        }
      ]
    },
    {
      "cell_type": "code",
      "execution_count": null,
      "metadata": {
        "id": "B03jF4OJoMTG"
      },
      "outputs": [],
      "source": [
        "import json\n",
        "import csv\n",
        "import re\n",
        "import requests\n",
        "from multiprocessing import Pool\n",
        "import html\n",
        "from time import time,localtime\n",
        "aladin_headers = {\n",
        "    \"User-Agent\": \"Mozilla/5.0 (X11; CrOS x86_64 12871.102.0) AppleWebKit/537.36 (KHTML, like Gecko) Chrome/81.0.4044.141 Safari/537.36\",\n",
        "    \"Connection\": \"close\"}\n",
        "header = ['제목','저자', '출판', '청구기호','목차']\n",
        "\n",
        "i_range = 10000\n",
        "i_start = 0\n",
        "\n",
        "def WriteCSV(start_i: int):\n",
        "  i = start_i\n",
        "  count = start_i\n",
        "  path = \"/content/gdrive/MyDrive/LibraryCsv/\"\n",
        "  filename = \"librarydata_windex_{start_i}-{max_i}.csv\".format(start_i = start_i, max_i = start_i+i_range)\n",
        "\n",
        "  with open(path + filename, 'w', encoding='UTF8', newline='') as f:\n",
        "    writer = csv.writer(f)\n",
        "    writer.writerow(header)\n",
        "    last = time()\n",
        "    while i < (start_i + i_range): #454545\n",
        "      params['offset'] = i\n",
        "      if(i_start == start_i):\n",
        "        current = time()\n",
        "        percentage = (i - start_i)/i_range\n",
        "        print(f'진행중... {percentage :2.2%} 완료! {current - last: .2f}초')\n",
        "        last = current\n",
        "      i+=100\n",
        "      response = requests.get('https://library.ajou.ac.kr/pyxis-api/1/collections/1/search', params=params, cookies=cookies, headers=headers)\n",
        "      data = response.json()\n",
        "      try:\n",
        "        new_dict = data['data']\n",
        "      except KeyError:\n",
        "        print(\"Error at :\",i-100)\n",
        "        print(data)\n",
        "        return\n",
        "      for j in new_dict['list']:\n",
        "        count+=1\n",
        "        try:\n",
        "          branch_dict = j['branchVolumes'][0]\n",
        "        except IndexError:\n",
        "          #print(j['titleStatement'],) #청구기호 조회 안된건 안넣고 제목만 참고용으로 출력\n",
        "          continue\n",
        "        isbn = j['isbn']\n",
        "        if(isbn == None):\n",
        "          continue\n",
        "        isbn.split('.')[0]\n",
        "        response = requests.get('https://library.ajou.ac.kr/pyxis-api/mashup-aladin/'+ isbn + '/toc', headers=aladin_headers)\n",
        "        data = response.json()\n",
        "        if(data['code'] == 'success.retrieved'):\n",
        "          index_text = data['data']\n",
        "          index_text = re.sub(\"[\\<].*?[\\>]\", \"\", index_text)\n",
        "          if(index_text == \"\"):\n",
        "            continue\n",
        "          index_text = html.unescape(index_text)\n",
        "          writer.writerow([j['titleStatement'], j['author'],j['publication'], branch_dict['volume'], index_text])\n",
        "        #이후 https://library.ajou.ac.kr/pyxis-api/mashup-aladin/ * ISBN  * /toc 을 통해 목차까지 같이 조회해서 하는거 진행해야함\n",
        "\n",
        "if __name__ == \"__main__\":\n",
        "  input = []\n",
        "  process_num = 9\n",
        "  for i in range(process_num):\n",
        "    input.append(i_start +i*i_range) \n",
        "  print(input)\n",
        "  with Pool(processes=process_num) as pool:  \n",
        "    pool.map(WriteCSV, input) "
      ]
    }
  ],
  "metadata": {
    "colab": {
      "provenance": [],
      "machine_shape": "hm",
      "mount_file_id": "1HvziIJzIIEMxFkJdOfqtGIbsQrkirC-2",
      "authorship_tag": "ABX9TyMXGlrg2IE/VQ5jESmBUbCL",
      "include_colab_link": true
    },
    "kernelspec": {
      "display_name": "Python 3",
      "name": "python3"
    },
    "language_info": {
      "name": "python"
    },
    "accelerator": "GPU",
    "gpuClass": "premium"
  },
  "nbformat": 4,
  "nbformat_minor": 0
}